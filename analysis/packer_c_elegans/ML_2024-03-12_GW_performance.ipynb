{
 "cells": [
  {
   "cell_type": "markdown",
   "id": "31690b74-07b4-419f-bef0-f258c6b326b6",
   "metadata": {},
   "source": [
    "# Look into GW performance"
   ]
  },
  {
   "cell_type": "markdown",
   "id": "5305140e-e6f5-4009-9175-a3b2770509f4",
   "metadata": {},
   "source": [
    "The pure Gromow-Wasserstein (GW) solver converges to a bad local minimum when we use precise lineage information on the 330/390 min pair of time points. In this notebook, we illustrate this point by showing that initializing GW from a better starting point, in this case the solution of a lineage OT problem, encourages the algorithm to converge to a better local minima. Thus, we highlight that pure GW, which only relies on lineage information, sometimes convergeds to bad local minima, even for perfect lineage information, which can be avoided in moslin by including some gene expression information. "
   ]
  },
  {
   "cell_type": "markdown",
   "id": "81414961-13c0-41de-9850-a95096a76e94",
   "metadata": {},
   "source": [
    "## Preliminaries"
   ]
  },
  {
   "cell_type": "markdown",
   "id": "fe15f761-2670-41b1-a1b2-8d8f0cff8a9a",
   "metadata": {},
   "source": [
    "### Import libraries"
   ]
  },
  {
   "cell_type": "code",
   "execution_count": 1,
   "id": "26ddd174-5883-4cf6-9b53-89dc9117db16",
   "metadata": {},
   "outputs": [],
   "source": [
    "%load_ext autoreload\n",
    "%autoreload 2"
   ]
  },
  {
   "cell_type": "code",
   "execution_count": 2,
   "id": "bc3b03da-9461-420b-8bbf-4d72d8a67799",
   "metadata": {},
   "outputs": [],
   "source": [
    "from typing import Any, Dict, Literal, Optional, Tuple\n",
    "import scanpy as sc\n",
    "import networkx as nx\n",
    "import numpy as np\n",
    "import matplotlib.pyplot as plt\n",
    "\n",
    "import jax\n",
    "\n",
    "jax.config.update(\"jax_enable_x64\", True)\n",
    "\n",
    "import pandas as pd\n",
    "import moslin_utils as mu\n",
    "from moslin_utils.constants import DATA_DIR, TIME_KEY\n",
    "\n",
    "import ott\n",
    "\n",
    "# import solvers\n",
    "from ott.solvers.quadratic import gromov_wasserstein\n",
    "from ott.solvers.linear import sinkhorn\n",
    "\n",
    "# import initializers\n",
    "from ott.initializers.quadratic import initializers\n",
    "\n",
    "# import problems\n",
    "from ott.problems.quadratic import quadratic_problem\n",
    "from ott.problems.linear import linear_problem"
   ]
  },
  {
   "cell_type": "markdown",
   "id": "d746d0a6-1f94-48e7-8c0d-e5a93866667f",
   "metadata": {},
   "source": [
    "### Set up paths"
   ]
  },
  {
   "cell_type": "code",
   "execution_count": 3,
   "id": "812b9408-408d-4934-aa9b-6d3c0eda9613",
   "metadata": {},
   "outputs": [],
   "source": [
    "DATA_DIR = DATA_DIR / \"packer_c_elegans\""
   ]
  },
  {
   "cell_type": "markdown",
   "id": "f64d4a13-da14-4c9e-818b-07a26581a2ad",
   "metadata": {},
   "source": [
    "### Define global settings"
   ]
  },
  {
   "cell_type": "markdown",
   "id": "1ff465fc-7265-4c19-a3a7-e60255dc62de",
   "metadata": {},
   "source": [
    "### Import data"
   ]
  },
  {
   "cell_type": "code",
   "execution_count": 4,
   "id": "91827bc8-f41d-44ac-bf0e-4dd6a92d9d9e",
   "metadata": {},
   "outputs": [],
   "source": [
    "adata = sc.read(DATA_DIR / \"c_elegans.h5ad\")\n",
    "full_reference_tree = nx.read_gml(DATA_DIR / \"ML_2023-11-06_packer_lineage_tree.gml\")"
   ]
  },
  {
   "cell_type": "markdown",
   "id": "c9f065db-a12a-40d4-ad14-6315ed3aa4d6",
   "metadata": {},
   "source": [
    "### Define utility functions"
   ]
  },
  {
   "cell_type": "code",
   "execution_count": 5,
   "id": "f2464abe-64ac-4d11-bc93-25daf36f816a",
   "metadata": {},
   "outputs": [],
   "source": [
    "def print_mean_error(tmat):\n",
    "    \"\"\"Compute the mean over ancestor and descendant error for a given oupling and print.\"\"\"\n",
    "\n",
    "    # make sure this is a numpy array\n",
    "    tmat = np.array(tmat)\n",
    "\n",
    "    # get early, late, and mean errors\n",
    "    early_error, late_error = gt_coupling.cost(tmat, late=False), gt_coupling.cost(tmat, late=True)\n",
    "    mean_error = (early_error + late_error) / 2\n",
    "\n",
    "    print(f\"Early error = {early_error:.3f}, late error = {late_error:.3f} and mean_error = {mean_error:.3f}.\")"
   ]
  },
  {
   "cell_type": "markdown",
   "id": "a45ce99a-c298-46c8-8920-378a6b7f9d88",
   "metadata": {},
   "source": [
    "## Look into GW performance"
   ]
  },
  {
   "cell_type": "markdown",
   "id": "3bfec181-ae45-4a75-a721-684a69ee06d2",
   "metadata": {},
   "source": [
    "### Define parameters and prepare data"
   ]
  },
  {
   "cell_type": "markdown",
   "id": "ac55fd41-35fb-4d51-be22-3920ccec0a13",
   "metadata": {},
   "source": [
    "Define parameters"
   ]
  },
  {
   "cell_type": "code",
   "execution_count": 6,
   "id": "19c0af89-5f64-426e-85a4-f89433920643",
   "metadata": {},
   "outputs": [],
   "source": [
    "tp = [330, 390]\n",
    "\n",
    "lineage_info = \"precise\"\n",
    "store_inner_errors = True\n",
    "\n",
    "max_outer_iterations = 50\n",
    "max_inner_iterations = 30000\n",
    "threshold = 1e-3\n",
    "scale_cost = \"mean\"\n",
    "\n",
    "# we'll define two different values for epsilon here\n",
    "epsilon_linear = 0.05\n",
    "epsilon_quad = 0.001"
   ]
  },
  {
   "cell_type": "markdown",
   "id": "0225fb0a-952a-4e4f-bbb8-513468d7ac99",
   "metadata": {},
   "source": [
    "Let's look into the original gridsearch results for GW. "
   ]
  },
  {
   "cell_type": "code",
   "execution_count": 7,
   "id": "ae6444c5-4733-4535-be73-bef022f57676",
   "metadata": {},
   "outputs": [],
   "source": [
    "grid_df = pd.read_csv(DATA_DIR / \"ML_2024-03-11_celegans_precise_and_abpxp.csv\", index_col=0)"
   ]
  },
  {
   "cell_type": "code",
   "execution_count": 8,
   "id": "0a71884e-8965-4f26-a529-165712305ef5",
   "metadata": {},
   "outputs": [
    {
     "name": "stdout",
     "output_type": "stream",
     "text": [
      "Removing 0/30 not converged runs.\n"
     ]
    },
    {
     "data": {
      "text/html": [
       "<div>\n",
       "<style scoped>\n",
       "    .dataframe tbody tr th:only-of-type {\n",
       "        vertical-align: middle;\n",
       "    }\n",
       "\n",
       "    .dataframe tbody tr th {\n",
       "        vertical-align: top;\n",
       "    }\n",
       "\n",
       "    .dataframe thead th {\n",
       "        text-align: right;\n",
       "    }\n",
       "</style>\n",
       "<table border=\"1\" class=\"dataframe\">\n",
       "  <thead>\n",
       "    <tr style=\"text-align: right;\">\n",
       "      <th></th>\n",
       "      <th>_wandb</th>\n",
       "      <th>late_cost</th>\n",
       "      <th>early_cost</th>\n",
       "      <th>deviation_from_balanced</th>\n",
       "      <th>_step</th>\n",
       "      <th>_runtime</th>\n",
       "      <th>converged</th>\n",
       "      <th>_timestamp</th>\n",
       "      <th>mean_error</th>\n",
       "      <th>tp</th>\n",
       "      <th>kind</th>\n",
       "      <th>alpha</th>\n",
       "      <th>tau_a</th>\n",
       "      <th>epsilon</th>\n",
       "      <th>scale_cost</th>\n",
       "      <th>lineage_info</th>\n",
       "      <th>max_inner_iterations</th>\n",
       "      <th>name</th>\n",
       "    </tr>\n",
       "  </thead>\n",
       "  <tbody>\n",
       "    <tr>\n",
       "      <th>47</th>\n",
       "      <td>{'runtime': 26}</td>\n",
       "      <td>0.109178</td>\n",
       "      <td>0.083764</td>\n",
       "      <td>0.000000e+00</td>\n",
       "      <td>0</td>\n",
       "      <td>27.500503</td>\n",
       "      <td>True</td>\n",
       "      <td>1.699616e+09</td>\n",
       "      <td>0.096471</td>\n",
       "      <td>170-210</td>\n",
       "      <td>GW</td>\n",
       "      <td>1.0</td>\n",
       "      <td>1</td>\n",
       "      <td>0.010</td>\n",
       "      <td>mean</td>\n",
       "      <td>precise</td>\n",
       "      <td>30000.0</td>\n",
       "      <td>sandy-sweep-553</td>\n",
       "    </tr>\n",
       "    <tr>\n",
       "      <th>58</th>\n",
       "      <td>{'runtime': 121}</td>\n",
       "      <td>0.163290</td>\n",
       "      <td>0.150787</td>\n",
       "      <td>2.220446e-16</td>\n",
       "      <td>0</td>\n",
       "      <td>121.807805</td>\n",
       "      <td>True</td>\n",
       "      <td>1.699616e+09</td>\n",
       "      <td>0.157038</td>\n",
       "      <td>210-270</td>\n",
       "      <td>GW</td>\n",
       "      <td>1.0</td>\n",
       "      <td>1</td>\n",
       "      <td>0.001</td>\n",
       "      <td>mean</td>\n",
       "      <td>precise</td>\n",
       "      <td>30000.0</td>\n",
       "      <td>ethereal-sweep-542</td>\n",
       "    </tr>\n",
       "    <tr>\n",
       "      <th>57</th>\n",
       "      <td>{'runtime': 305}</td>\n",
       "      <td>0.229756</td>\n",
       "      <td>0.197582</td>\n",
       "      <td>2.220446e-16</td>\n",
       "      <td>0</td>\n",
       "      <td>306.088845</td>\n",
       "      <td>True</td>\n",
       "      <td>1.699616e+09</td>\n",
       "      <td>0.213669</td>\n",
       "      <td>270-330</td>\n",
       "      <td>GW</td>\n",
       "      <td>1.0</td>\n",
       "      <td>1</td>\n",
       "      <td>0.001</td>\n",
       "      <td>mean</td>\n",
       "      <td>precise</td>\n",
       "      <td>30000.0</td>\n",
       "      <td>laced-sweep-543</td>\n",
       "    </tr>\n",
       "    <tr>\n",
       "      <th>56</th>\n",
       "      <td>{'runtime': 126}</td>\n",
       "      <td>0.613913</td>\n",
       "      <td>0.559957</td>\n",
       "      <td>2.220446e-16</td>\n",
       "      <td>0</td>\n",
       "      <td>126.642962</td>\n",
       "      <td>True</td>\n",
       "      <td>1.699616e+09</td>\n",
       "      <td>0.586935</td>\n",
       "      <td>330-390</td>\n",
       "      <td>GW</td>\n",
       "      <td>1.0</td>\n",
       "      <td>1</td>\n",
       "      <td>0.001</td>\n",
       "      <td>mean</td>\n",
       "      <td>precise</td>\n",
       "      <td>30000.0</td>\n",
       "      <td>wise-sweep-544</td>\n",
       "    </tr>\n",
       "    <tr>\n",
       "      <th>55</th>\n",
       "      <td>{'runtime': 36}</td>\n",
       "      <td>0.042624</td>\n",
       "      <td>0.047701</td>\n",
       "      <td>2.220446e-16</td>\n",
       "      <td>0</td>\n",
       "      <td>37.496566</td>\n",
       "      <td>True</td>\n",
       "      <td>1.699616e+09</td>\n",
       "      <td>0.045162</td>\n",
       "      <td>390-450</td>\n",
       "      <td>GW</td>\n",
       "      <td>1.0</td>\n",
       "      <td>1</td>\n",
       "      <td>0.001</td>\n",
       "      <td>mean</td>\n",
       "      <td>precise</td>\n",
       "      <td>30000.0</td>\n",
       "      <td>fluent-sweep-545</td>\n",
       "    </tr>\n",
       "    <tr>\n",
       "      <th>54</th>\n",
       "      <td>{'runtime': 25}</td>\n",
       "      <td>0.010022</td>\n",
       "      <td>0.009853</td>\n",
       "      <td>8.881784e-16</td>\n",
       "      <td>0</td>\n",
       "      <td>26.347877</td>\n",
       "      <td>True</td>\n",
       "      <td>1.699616e+09</td>\n",
       "      <td>0.009937</td>\n",
       "      <td>450-510</td>\n",
       "      <td>GW</td>\n",
       "      <td>1.0</td>\n",
       "      <td>1</td>\n",
       "      <td>0.001</td>\n",
       "      <td>mean</td>\n",
       "      <td>precise</td>\n",
       "      <td>30000.0</td>\n",
       "      <td>rose-sweep-546</td>\n",
       "    </tr>\n",
       "  </tbody>\n",
       "</table>\n",
       "</div>"
      ],
      "text/plain": [
       "              _wandb  late_cost  early_cost  deviation_from_balanced  _step  \\\n",
       "47   {'runtime': 26}   0.109178    0.083764             0.000000e+00      0   \n",
       "58  {'runtime': 121}   0.163290    0.150787             2.220446e-16      0   \n",
       "57  {'runtime': 305}   0.229756    0.197582             2.220446e-16      0   \n",
       "56  {'runtime': 126}   0.613913    0.559957             2.220446e-16      0   \n",
       "55   {'runtime': 36}   0.042624    0.047701             2.220446e-16      0   \n",
       "54   {'runtime': 25}   0.010022    0.009853             8.881784e-16      0   \n",
       "\n",
       "      _runtime  converged    _timestamp  mean_error       tp kind  alpha  \\\n",
       "47   27.500503       True  1.699616e+09    0.096471  170-210   GW    1.0   \n",
       "58  121.807805       True  1.699616e+09    0.157038  210-270   GW    1.0   \n",
       "57  306.088845       True  1.699616e+09    0.213669  270-330   GW    1.0   \n",
       "56  126.642962       True  1.699616e+09    0.586935  330-390   GW    1.0   \n",
       "55   37.496566       True  1.699616e+09    0.045162  390-450   GW    1.0   \n",
       "54   26.347877       True  1.699616e+09    0.009937  450-510   GW    1.0   \n",
       "\n",
       "    tau_a  epsilon scale_cost lineage_info  max_inner_iterations  \\\n",
       "47      1    0.010       mean      precise               30000.0   \n",
       "58      1    0.001       mean      precise               30000.0   \n",
       "57      1    0.001       mean      precise               30000.0   \n",
       "56      1    0.001       mean      precise               30000.0   \n",
       "55      1    0.001       mean      precise               30000.0   \n",
       "54      1    0.001       mean      precise               30000.0   \n",
       "\n",
       "                  name  \n",
       "47     sandy-sweep-553  \n",
       "58  ethereal-sweep-542  \n",
       "57     laced-sweep-543  \n",
       "56      wise-sweep-544  \n",
       "55    fluent-sweep-545  \n",
       "54      rose-sweep-546  "
      ]
     },
     "execution_count": 8,
     "metadata": {},
     "output_type": "execute_result"
    }
   ],
   "source": [
    "hyper_df = mu.ul.get_best_runs(df=grid_df, lineage_info=lineage_info, group_key=\"kind\", group=\"GW\", converged=True)\n",
    "hyper_df"
   ]
  },
  {
   "cell_type": "markdown",
   "id": "c7771c16-9077-4601-a87e-4cc07b915785",
   "metadata": {},
   "source": [
    "Start by preprocessing the data"
   ]
  },
  {
   "cell_type": "code",
   "execution_count": 9,
   "id": "36f425a1-4ad7-4de8-bac9-6124354418ec",
   "metadata": {},
   "outputs": [],
   "source": [
    "# pre-proces the data\n",
    "adata = mu.pp.preprocess(adata, full_reference_tree, lineage_info=lineage_info)\n",
    "\n",
    "# extract early and late time point information\n",
    "early_time, late_time = tp"
   ]
  },
  {
   "cell_type": "markdown",
   "id": "8255b79e-c005-49d1-81cd-0d13412545d4",
   "metadata": {},
   "source": [
    "Get the ground truth coupling, and lineage distance matrices. "
   ]
  },
  {
   "cell_type": "code",
   "execution_count": 10,
   "id": "3ed391aa-659c-4c67-992c-90ca2b654e2d",
   "metadata": {},
   "outputs": [],
   "source": [
    "gt_coupling, early_dist, late_dist, bdata = mu.tl.prepare_moscot(\n",
    "    adata=adata,\n",
    "    early_time=early_time,\n",
    "    late_time=late_time,\n",
    ")\n",
    "\n",
    "# from the ground truth coupling, get the marginals\n",
    "a, b = gt_coupling.early_marginal, gt_coupling.late_marginal"
   ]
  },
  {
   "cell_type": "markdown",
   "id": "b5c8087f-f16a-48b2-8b53-f40bcec21453",
   "metadata": {},
   "source": [
    "Let's make sure that dimensions make sense. "
   ]
  },
  {
   "cell_type": "code",
   "execution_count": 11,
   "id": "0a424250-38db-460a-983b-8dcdfcb24bd1",
   "metadata": {},
   "outputs": [],
   "source": [
    "assert early_dist.shape[0] == np.sum(bdata.obs[TIME_KEY] == early_time) == a.shape[0], \"Shape mismatch for early cells\"\n",
    "assert late_dist.shape[0] == np.sum(bdata.obs[TIME_KEY] == late_time) == b.shape[0], \"Shape mismatch for late cells\""
   ]
  },
  {
   "cell_type": "markdown",
   "id": "d6d98d50-47ea-4cf2-b5e7-70a569404a3b",
   "metadata": {},
   "source": [
    "### Solve a linear problem"
   ]
  },
  {
   "cell_type": "markdown",
   "id": "dc0270f3-e1fc-49b0-a4c2-a4792d828706",
   "metadata": {},
   "source": [
    "Using OTT directly, initialize a geometry for the linear problem "
   ]
  },
  {
   "cell_type": "code",
   "execution_count": 12,
   "id": "695c7d35-721c-44fc-8b06-548bfc1c1cd4",
   "metadata": {},
   "outputs": [],
   "source": [
    "# initialize a Geometry in PCA space for the linear problm\n",
    "X = bdata[bdata.obs[TIME_KEY] == early_time].obsm[\"X_pca\"].copy()\n",
    "Y = bdata[bdata.obs[TIME_KEY] == late_time].obsm[\"X_pca\"].copy()\n",
    "\n",
    "geom_xy = ott.geometry.pointcloud.PointCloud(x=X, y=Y, scale_cost=scale_cost, epsilon=epsilon_linear)"
   ]
  },
  {
   "cell_type": "markdown",
   "id": "aa59898d-97d4-4bb6-9e30-9657b4a1f3af",
   "metadata": {},
   "source": [
    "Make sure setting epsilon worked as expected. "
   ]
  },
  {
   "cell_type": "code",
   "execution_count": 13,
   "id": "312ced06-f039-4a55-afdd-7f7b56010f9c",
   "metadata": {},
   "outputs": [],
   "source": [
    "assert geom_xy.epsilon == epsilon_linear, \"Not using the specific epsilon value\""
   ]
  },
  {
   "cell_type": "markdown",
   "id": "1ecf55a4-5446-470d-950f-74744d02690d",
   "metadata": {},
   "source": [
    "Initialize a Linear problem. "
   ]
  },
  {
   "cell_type": "code",
   "execution_count": 14,
   "id": "cb78c8cc-bea4-46eb-9d11-21728da20e34",
   "metadata": {},
   "outputs": [],
   "source": [
    "prob_lin = linear_problem.LinearProblem(geom=geom_xy, a=a, b=b)"
   ]
  },
  {
   "cell_type": "markdown",
   "id": "9b19d642-09c5-4703-943c-369a9f3d631f",
   "metadata": {},
   "source": [
    "Initialize a solver for this linear problem. "
   ]
  },
  {
   "cell_type": "code",
   "execution_count": 15,
   "id": "77ef021b-4c14-4980-a27c-92735a2d7fd1",
   "metadata": {},
   "outputs": [],
   "source": [
    "linear_solver_kwargs = {\"max_iterations\": max_inner_iterations}\n",
    "\n",
    "# Instantiate a jitt'ed linear solver\n",
    "sinkhorn_solver = jax.jit(\n",
    "    sinkhorn.Sinkhorn(\n",
    "        max_iterations=max_inner_iterations,\n",
    "    )\n",
    ")"
   ]
  },
  {
   "cell_type": "markdown",
   "id": "455ed000-1b4b-45c2-8b91-c005be0f3cc6",
   "metadata": {},
   "source": [
    "Solve the Linear problem using the Sinkhorn solver."
   ]
  },
  {
   "cell_type": "code",
   "execution_count": 16,
   "id": "e9a843de-bd18-4888-9ded-5d2d7b25bede",
   "metadata": {},
   "outputs": [],
   "source": [
    "sinkhorn_out = sinkhorn_solver(prob_lin)"
   ]
  },
  {
   "cell_type": "markdown",
   "id": "c379af7f-4e9c-416d-ae85-16fc3bdbc2e8",
   "metadata": {},
   "source": [
    "Let's look into this solution a bit more. "
   ]
  },
  {
   "cell_type": "code",
   "execution_count": 17,
   "id": "a14b1c16-b8ca-4679-acc1-23cd1af1e569",
   "metadata": {},
   "outputs": [
    {
     "name": "stdout",
     "output_type": "stream",
     "text": [
      "190 outer iterations were needed.\n",
      "The algorithm converged: True\n",
      "The final regularized Sinkhorn cost is: 0.565\n"
     ]
    }
   ],
   "source": [
    "has_converged = bool(sinkhorn_out.converged)\n",
    "\n",
    "print(f\"{sinkhorn_out.n_iters} outer iterations were needed.\")\n",
    "\n",
    "print(f\"The algorithm converged: {has_converged}\")\n",
    "print(f\"The final regularized Sinkhorn cost is: {sinkhorn_out.reg_ot_cost:.3f}\")"
   ]
  },
  {
   "cell_type": "markdown",
   "id": "258601b4-cd2a-4578-afa9-0eb0e82ca659",
   "metadata": {},
   "source": [
    "We can also use this solution to compute a mean error. "
   ]
  },
  {
   "cell_type": "code",
   "execution_count": 18,
   "id": "9abafa34-cad9-4291-9e7f-480ce21ada97",
   "metadata": {},
   "outputs": [
    {
     "name": "stderr",
     "output_type": "stream",
     "text": [
      "/cluster/project/treutlein/USERS/mlange/mambaforge/envs/moslin_3/lib/python3.11/site-packages/lineageot/evaluation.py:159: UserWarning: Expanded coupling not computed correctly. Check for infeasibility in row and column OT calculations. Updating the python optimal transport package may help (https://github.com/PythonOT/POT/issues/93).\n",
      "If total mass - 1 is small, this may not significantly affect downstream results.\n",
      "Total mass - 1: -0.0001719895810036176\n",
      "  warnings.warn((\"Expanded coupling not computed correctly. \" +\n",
      "/cluster/project/treutlein/USERS/mlange/mambaforge/envs/moslin_3/lib/python3.11/site-packages/lineageot/evaluation.py:159: UserWarning: Expanded coupling not computed correctly. Check for infeasibility in row and column OT calculations. Updating the python optimal transport package may help (https://github.com/PythonOT/POT/issues/93).\n",
      "If total mass - 1 is small, this may not significantly affect downstream results.\n",
      "Total mass - 1: -0.00017198958100372863\n",
      "  warnings.warn((\"Expanded coupling not computed correctly. \" +\n"
     ]
    },
    {
     "name": "stdout",
     "output_type": "stream",
     "text": [
      "Early error = 0.268, late error = 0.267 and mean_error = 0.267.\n"
     ]
    }
   ],
   "source": [
    "# extract the transition matrix\n",
    "print_mean_error(sinkhorn_out.matrix)"
   ]
  },
  {
   "cell_type": "markdown",
   "id": "99d1a369-2f0b-49b3-a871-b3eafe791b62",
   "metadata": {},
   "source": [
    "### Solve a quadratic problem"
   ]
  },
  {
   "cell_type": "markdown",
   "id": "a63bc955-f737-4d31-bc7f-334dfa2c0a76",
   "metadata": {},
   "source": [
    "Initialize the geometries and a quadratic problem. "
   ]
  },
  {
   "cell_type": "code",
   "execution_count": 19,
   "id": "0f883ea3-85f6-44a9-a2eb-673b74224ab5",
   "metadata": {},
   "outputs": [],
   "source": [
    "# initialize Geometries from pre-computed lineage distance matrices\n",
    "geom_xx = ott.geometry.geometry.Geometry(early_dist, scale_cost=scale_cost)\n",
    "geom_yy = ott.geometry.geometry.Geometry(late_dist, scale_cost=scale_cost)\n",
    "\n",
    "# initialize the Quadratic problem\n",
    "prob_quad = quadratic_problem.QuadraticProblem(geom_xx=geom_xx, geom_yy=geom_yy, a=a, b=b)"
   ]
  },
  {
   "cell_type": "markdown",
   "id": "e583c188-701f-4609-8b10-c3c7a1f989ac",
   "metadata": {},
   "source": [
    "Initialize a solver, and use it to solve this problem. "
   ]
  },
  {
   "cell_type": "code",
   "execution_count": 20,
   "id": "2b33af97-a131-4ff4-bcef-37aa2012a8ac",
   "metadata": {},
   "outputs": [],
   "source": [
    "# control some parameters of the inner Sinkhorn solver\n",
    "linear_solver_kwargs = {\"max_iterations\": max_inner_iterations}\n",
    "linear_ot_solver = sinkhorn.Sinkhorn(**linear_solver_kwargs)\n",
    "\n",
    "# Instantiate a jitt'ed Gromov-Wasserstein solver\n",
    "gw_solver = jax.jit(\n",
    "    gromov_wasserstein.GromovWasserstein(\n",
    "        linear_ot_solver=linear_ot_solver,\n",
    "        epsilon=epsilon_quad,\n",
    "        store_inner_errors=True,\n",
    "        threshold=threshold,\n",
    "        max_iterations=max_outer_iterations,\n",
    "    )\n",
    ")\n",
    "\n",
    "gw_out = gw_solver(prob_quad)"
   ]
  },
  {
   "cell_type": "markdown",
   "id": "7f085a25-d4e5-4c9d-9cbd-59e6102769aa",
   "metadata": {},
   "source": [
    "Inspect the outpute we got from this. "
   ]
  },
  {
   "cell_type": "code",
   "execution_count": 21,
   "id": "50af5a2d-fea2-4491-a1d7-fc5c59342042",
   "metadata": {},
   "outputs": [
    {
     "name": "stdout",
     "output_type": "stream",
     "text": [
      "9 outer iterations were needed.\n",
      "The last Sinkhorn iteration has converged: True\n",
      "The outer loop of Gromov Wasserstein has converged: True\n",
      "The final regularized GW cost is: 0.006\n"
     ]
    }
   ],
   "source": [
    "has_converged = bool(gw_out.linear_convergence[gw_out.n_iters - 1])\n",
    "\n",
    "print(f\"{gw_out.n_iters} outer iterations were needed.\")\n",
    "print(f\"The last Sinkhorn iteration has converged: {has_converged}\")\n",
    "print(f\"The outer loop of Gromov Wasserstein has converged: {gw_out.converged}\")\n",
    "print(f\"The final regularized GW cost is: {gw_out.reg_gw_cost:.3f}\")"
   ]
  },
  {
   "cell_type": "markdown",
   "id": "787a85e7-8dde-4d32-8fd8-857cd7abe4af",
   "metadata": {},
   "source": [
    "Evaluate using the ground-truth coupling. "
   ]
  },
  {
   "cell_type": "code",
   "execution_count": 22,
   "id": "cdd155b3-3d45-4909-ba39-665f5650e8a1",
   "metadata": {},
   "outputs": [
    {
     "name": "stdout",
     "output_type": "stream",
     "text": [
      "Early error = 0.560, late error = 0.614 and mean_error = 0.587.\n"
     ]
    }
   ],
   "source": [
    "print_mean_error(gw_out.matrix)"
   ]
  },
  {
   "cell_type": "markdown",
   "id": "57224e5a-c09b-4dd6-9aad-ae7fdc0309e4",
   "metadata": {},
   "source": [
    "The poor performance of pure GW reproduces what we saw in the gridsearch above. "
   ]
  },
  {
   "cell_type": "markdown",
   "id": "59dac337-f64e-47f4-8087-8e97f7aed04b",
   "metadata": {},
   "source": [
    "### Initialize quadratic problem with linear solution"
   ]
  },
  {
   "cell_type": "markdown",
   "id": "c527e040-0edf-4c40-ada9-4cb099ce7762",
   "metadata": {},
   "source": [
    "Finally, let's use the OT solution to initialize the GW problem. "
   ]
  },
  {
   "cell_type": "code",
   "execution_count": 23,
   "id": "479fd1a5-1781-47f5-ad80-cee9c173c733",
   "metadata": {},
   "outputs": [],
   "source": [
    "# define the inner linear solver\n",
    "linear_solver_kwargs = {\"max_iterations\": max_inner_iterations}\n",
    "linear_ot_solver = sinkhorn.Sinkhorn(**linear_solver_kwargs)\n",
    "\n",
    "# Instantiate a jitt'ed Gromov-Wasserstein solver with custom initialization\n",
    "ot_gw_solver = jax.jit(\n",
    "    gromov_wasserstein.GromovWasserstein(\n",
    "        linear_ot_solver=linear_ot_solver,\n",
    "        epsilon=epsilon_quad,\n",
    "        store_inner_errors=True,\n",
    "        threshold=threshold,\n",
    "        max_iterations=max_outer_iterations,\n",
    "        quad_initializer=initializers.QuadraticInitializer(\n",
    "            init_coupling=sinkhorn_out.matrix,\n",
    "        ),\n",
    "    )\n",
    ")"
   ]
  },
  {
   "cell_type": "markdown",
   "id": "8ee379e8-3b1a-4c6c-b9b7-ab042f1f811f",
   "metadata": {},
   "source": [
    "Let's call this solver"
   ]
  },
  {
   "cell_type": "code",
   "execution_count": 24,
   "id": "7ff40378-9e23-4527-94b1-d55f7affca8d",
   "metadata": {},
   "outputs": [],
   "source": [
    "ot_gw_out = ot_gw_solver(prob_quad)"
   ]
  },
  {
   "cell_type": "markdown",
   "id": "32ba18ed-c7a6-4259-a26e-a84e17c8f654",
   "metadata": {},
   "source": [
    "Let's look into this solution"
   ]
  },
  {
   "cell_type": "code",
   "execution_count": 26,
   "id": "5147ff6c-a69a-41f1-aa4a-caad1d8e2907",
   "metadata": {},
   "outputs": [
    {
     "name": "stdout",
     "output_type": "stream",
     "text": [
      "5 outer iterations were needed.\n",
      "The last Sinkhorn iteration has converged: True\n",
      "The outer loop of Gromov Wasserstein has converged: True\n",
      "The final regularized GW cost is: 0.006\n"
     ]
    }
   ],
   "source": [
    "has_converged = bool(ot_gw_out.linear_convergence[ot_gw_out.n_iters - 1])\n",
    "\n",
    "print(f\"{ot_gw_out.n_iters} outer iterations were needed.\")\n",
    "print(f\"The last Sinkhorn iteration has converged: {has_converged}\")\n",
    "print(f\"The outer loop of Gromov Wasserstein has converged: {ot_gw_out.converged}\")\n",
    "print(f\"The final regularized GW cost is: {ot_gw_out.reg_gw_cost:.3f}\")"
   ]
  },
  {
   "cell_type": "markdown",
   "id": "b18f79b7-10ce-401e-922b-c0140e0c8181",
   "metadata": {},
   "source": [
    "Evaluate using the ground-truth coupling. "
   ]
  },
  {
   "cell_type": "code",
   "execution_count": 27,
   "id": "6da772fd-1d12-49f2-8c60-b2ee73b7519b",
   "metadata": {},
   "outputs": [
    {
     "name": "stdout",
     "output_type": "stream",
     "text": [
      "Early error = 0.108, late error = 0.118 and mean_error = 0.113.\n"
     ]
    }
   ],
   "source": [
    "print_mean_error(ot_gw_out.matrix)"
   ]
  },
  {
   "cell_type": "markdown",
   "id": "4fbe3ea2-bbd1-4c15-acbc-669862b103cc",
   "metadata": {},
   "source": [
    "Indeed, the mean error has substantially decreased compared to the default GW initalization we tested before. "
   ]
  }
 ],
 "metadata": {
  "kernelspec": {
   "display_name": "jax-4",
   "language": "python",
   "name": "python3"
  },
  "language_info": {
   "codemirror_mode": {
    "name": "ipython",
    "version": 3
   },
   "file_extension": ".py",
   "mimetype": "text/x-python",
   "name": "python",
   "nbconvert_exporter": "python",
   "pygments_lexer": "ipython3",
   "version": "3.12.3"
  }
 },
 "nbformat": 4,
 "nbformat_minor": 5
}
