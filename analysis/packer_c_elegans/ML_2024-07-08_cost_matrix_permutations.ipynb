{
 "cells": [
  {
   "cell_type": "markdown",
   "id": "3b0f242e-6514-41cc-84a0-c983cc917b78",
   "metadata": {},
   "source": [
    "# Dependency on errors in the lineage tree\n",
    "\n",
    "- Check the dependency of the mean error on the number of permutated elements in the lineage cost matrix. "
   ]
  },
  {
   "cell_type": "markdown",
   "id": "0e542911-7e32-49f7-b204-70a4c9d3a956",
   "metadata": {},
   "source": [
    "## Preliminaries"
   ]
  },
  {
   "cell_type": "markdown",
   "id": "55f8e8bb-2f05-447c-873e-1ba00a75e328",
   "metadata": {
    "tags": []
   },
   "source": [
    "### Import packages"
   ]
  },
  {
   "cell_type": "code",
   "execution_count": 1,
   "id": "da8c8328-b0df-40ab-8bfc-5281d8cb0aea",
   "metadata": {},
   "outputs": [],
   "source": [
    "%load_ext autoreload\n",
    "%autoreload 2"
   ]
  },
  {
   "cell_type": "code",
   "execution_count": 2,
   "id": "be243e0d",
   "metadata": {},
   "outputs": [],
   "source": [
    "import scanpy as sc\n",
    "import scvelo as scv\n",
    "import moscot as mt\n",
    "import moscot.plotting as mtp\n",
    "from anndata import AnnData\n",
    "import matplotlib.colors as mcolors\n",
    "import scipy.sparse as sp\n",
    "from tqdm import tqdm\n",
    "import seaborn as sns\n",
    "\n",
    "import moslin_utils as mu\n",
    "from moslin_utils.constants import DATA_DIR, FIG_DIR, TIME_KEY, TIMEPOINTS\n",
    "\n",
    "import numpy as np\n",
    "import matplotlib.pyplot as plt\n",
    "import pandas as pd\n",
    "import warnings"
   ]
  },
  {
   "cell_type": "markdown",
   "id": "b37ef8de-ebbe-4e23-90ae-7bf7e4cf5c83",
   "metadata": {},
   "source": [
    "Print the moscot version. "
   ]
  },
  {
   "cell_type": "code",
   "execution_count": 3,
   "id": "5898d3c3-1f59-485e-9011-f1bac0395c43",
   "metadata": {
    "ExecuteTime": {
     "end_time": "2023-02-22T09:33:47.845970Z",
     "start_time": "2023-02-22T09:33:47.826070Z"
    }
   },
   "outputs": [
    {
     "data": {
      "text/plain": [
       "'0.3.5.dev36+g628bceb'"
      ]
     },
     "execution_count": 3,
     "metadata": {},
     "output_type": "execute_result"
    }
   ],
   "source": [
    "mt.__version__"
   ]
  },
  {
   "cell_type": "markdown",
   "id": "de7f91a5-77f0-476d-b6b5-aaefb2cd85d8",
   "metadata": {
    "tags": []
   },
   "source": [
    "### Dependencies"
   ]
  },
  {
   "cell_type": "markdown",
   "id": "7af3fcb5-ca86-45d6-8c02-ed837e8cb693",
   "metadata": {},
   "source": [
    "This notebook depends on [ML_2024-03-11_prepare_data.ipynb](ML_2024-03-11_prepare_data.ipynb) and on [ML_2024-03-11_compute_couplings.ipynb](ML_2024-03-11_compute_couplings.ipynb). "
   ]
  },
  {
   "cell_type": "markdown",
   "id": "07dea467-31fc-4a72-ab97-f55ad8c985f1",
   "metadata": {
    "tags": []
   },
   "source": [
    "### Set up paths"
   ]
  },
  {
   "cell_type": "markdown",
   "id": "b59e9611-8a2f-4c3d-8308-cf72a1e4ce2b",
   "metadata": {},
   "source": [
    "Define the paths for data and figures"
   ]
  },
  {
   "cell_type": "code",
   "execution_count": 4,
   "id": "00862ba7-8048-474e-aba4-4439edde4c7e",
   "metadata": {
    "ExecuteTime": {
     "end_time": "2021-10-26T12:40:26.847265Z",
     "start_time": "2021-10-26T12:40:26.843837Z"
    }
   },
   "outputs": [],
   "source": [
    "FIG_DIR = FIG_DIR / \"packer_c_elegans\" / \"time_gap\"\n",
    "DATA_DIR = DATA_DIR / \"packer_c_elegans\""
   ]
  },
  {
   "cell_type": "markdown",
   "id": "e3f4f02b-9c58-4c80-9fe6-592d6d7b6762",
   "metadata": {},
   "source": [
    "Set up the paths to save figures."
   ]
  },
  {
   "cell_type": "code",
   "execution_count": 5,
   "id": "1ef0b3af-3046-4cff-9150-52797e6aa9a6",
   "metadata": {
    "ExecuteTime": {
     "end_time": "2021-10-26T12:40:26.850711Z",
     "start_time": "2021-10-26T12:40:26.848516Z"
    }
   },
   "outputs": [],
   "source": [
    "scv.settings.figdir = str(FIG_DIR)\n",
    "sc.settings.figdir = str(FIG_DIR)"
   ]
  },
  {
   "cell_type": "markdown",
   "id": "28454765-5c25-44e9-8d18-8d64798ba832",
   "metadata": {
    "tags": []
   },
   "source": [
    "### Set global parameters"
   ]
  },
  {
   "cell_type": "code",
   "execution_count": 6,
   "id": "ed7726e3-60a8-48d7-b24c-fd6ab90edd91",
   "metadata": {},
   "outputs": [],
   "source": [
    "DPI_SAVE = 250\n",
    "\n",
    "scv.settings.set_figure_params(\n",
    "    \"scvelo\",\n",
    "    dpi_save=DPI_SAVE,\n",
    "    dpi=80,\n",
    "    transparent=True,\n",
    "    fontsize=20,\n",
    "    color_map=\"viridis\",\n",
    ")\n",
    "scv.settings.plot_prefix = \"\""
   ]
  },
  {
   "cell_type": "code",
   "execution_count": 7,
   "id": "6f76a55b-a3f8-4714-9164-c71dc58611d3",
   "metadata": {},
   "outputs": [],
   "source": [
    "# should figures just be displayed or also saved?\n",
    "save_figure = False\n",
    "RANDOM_STATE = 0"
   ]
  },
  {
   "cell_type": "code",
   "execution_count": 8,
   "id": "f3a0a545-dc5f-4350-957f-663fddbeaf5d",
   "metadata": {},
   "outputs": [],
   "source": [
    "LINEAGE_INFO = \"complete\"\n",
    "random_state = 0"
   ]
  },
  {
   "cell_type": "markdown",
   "id": "3ebf5c2d",
   "metadata": {
    "tags": []
   },
   "source": [
    "### Define utility functions"
   ]
  },
  {
   "cell_type": "code",
   "execution_count": 9,
   "id": "58645d13-6593-411c-8ca9-e0f9edb2fcd3",
   "metadata": {},
   "outputs": [],
   "source": [
    "def hex_to_rgb(hex_color):\n",
    "    \"\"\"Convert a hex color to an RGB tuple.\"\"\"\n",
    "    hex_color = hex_color.lstrip(\"#\")  # Remove '#' if present\n",
    "    return tuple(int(hex_color[i : i + 2], 16) for i in (0, 2, 4))\n",
    "\n",
    "\n",
    "def rgb_to_hex(rgb_color):\n",
    "    \"\"\"Convert an RGB tuple back to a hex color.\"\"\"\n",
    "    return \"#{:02x}{:02x}{:02x}\".format(*rgb_color)\n",
    "\n",
    "\n",
    "def average_hex_color(hex_color1, hex_color2):\n",
    "    \"\"\"Calculate the average of two hex colors.\"\"\"\n",
    "    rgb1 = hex_to_rgb(hex_color1)\n",
    "    rgb2 = hex_to_rgb(hex_color2)\n",
    "    avg_rgb = tuple((c1 + c2) // 2 for c1, c2 in zip(rgb1, rgb2))\n",
    "    return rgb_to_hex(avg_rgb)"
   ]
  },
  {
   "cell_type": "markdown",
   "id": "9028cb42",
   "metadata": {
    "tags": []
   },
   "source": [
    "### Load and preprocess the data"
   ]
  },
  {
   "cell_type": "markdown",
   "id": "5d8de752-e24e-404c-952d-7f9b695c1a19",
   "metadata": {},
   "source": [
    "Load AnnData objects, created in previous notebooks. "
   ]
  },
  {
   "cell_type": "code",
   "execution_count": 10,
   "id": "083cd3fd",
   "metadata": {},
   "outputs": [
    {
     "data": {
      "text/plain": [
       "AnnData object with n_obs × n_vars = 46151 × 20222\n",
       "    obs: 'idx', 'barcode', 'n.umi', 'time.point', 'batch', 'Size_Factor', 'cell.type', 'cell.subtype', 'plot.cell.type', 'raw.embryo.time', 'embryo.time', 'embryo.time.bin', 'raw.embryo.time.bin', 'lineage', 'passed_initial_QC_or_later_whitelisted', 'random_precise_lineage', 'assigned_batch_time', 'subset', 'clusters', 'coarse_clusters'\n",
       "    var: 'Ensembl', 'gene_short_name', 'Symbol', 'Family', 'Protein', 'Entrez_ID', 'TF'\n",
       "    uns: 'assigned_batch_time_colors', 'cell.type_colors', 'clusters_colors', 'coarse_clusters_colors', 'subset_colors'\n",
       "    obsm: 'X_pca', 'X_umap', 'X_umap_abpxp'"
      ]
     },
     "execution_count": 10,
     "metadata": {},
     "output_type": "execute_result"
    }
   ],
   "source": [
    "# import the raw data, to re-compute the couplings\n",
    "adata = sc.read(DATA_DIR / \"ML_2024-06-09_c_elegans_prep.h5ad\")\n",
    "adata"
   ]
  },
  {
   "cell_type": "markdown",
   "id": "8ab2d3a0-9c5b-425d-93bd-9bd501e776af",
   "metadata": {},
   "source": [
    "Download the C. elegans lineage tree [(Packer et al., Science 2019)](https://www.science.org/doi/10.1126/science.aax1971) from [figshare](https://doi.org/10.6084/m9.figshare.c.6533377.v1). Subset to the ABpxp lineage, preprocess the data, compute PCA, and write the lineage tree to `.uns`. "
   ]
  },
  {
   "cell_type": "code",
   "execution_count": 11,
   "id": "1bf7b2fa-5c48-4130-bc7e-8392ef77f6d8",
   "metadata": {
    "ExecuteTime": {
     "end_time": "2023-02-22T09:33:52.776892Z",
     "start_time": "2023-02-22T09:33:48.116737Z"
    }
   },
   "outputs": [],
   "source": [
    "_, full_reference_tree = mt.datasets.c_elegans(DATA_DIR / \"c_elegans\")"
   ]
  },
  {
   "cell_type": "markdown",
   "id": "330f2068-80d2-47ad-8ef8-844fa62cf6d7",
   "metadata": {},
   "source": [
    "In addition, import the grid search results to inform our choice of hyperparematers. The results of our gridsearch are included in this repositroy in `data/packer_c_elegans`. "
   ]
  },
  {
   "cell_type": "code",
   "execution_count": 12,
   "id": "f50dcbeb-90a5-4395-a911-e304e9ad04d5",
   "metadata": {},
   "outputs": [],
   "source": [
    "grid_df = pd.read_csv(DATA_DIR / \"ML_2024-06-05_celegans_precise_and_abpxp.csv\", index_col=0)"
   ]
  },
  {
   "cell_type": "markdown",
   "id": "f1de2d8a",
   "metadata": {},
   "source": [
    "Subset the anndata object. "
   ]
  },
  {
   "cell_type": "code",
   "execution_count": 13,
   "id": "1a916668",
   "metadata": {},
   "outputs": [
    {
     "data": {
      "text/plain": [
       "AnnData object with n_obs × n_vars = 5123 × 20222\n",
       "    obs: 'idx', 'barcode', 'n.umi', 'time.point', 'batch', 'Size_Factor', 'cell.type', 'cell.subtype', 'plot.cell.type', 'raw.embryo.time', 'embryo.time', 'embryo.time.bin', 'raw.embryo.time.bin', 'lineage', 'passed_initial_QC_or_later_whitelisted', 'random_precise_lineage', 'assigned_batch_time', 'subset', 'clusters', 'coarse_clusters'\n",
       "    var: 'Ensembl', 'gene_short_name', 'Symbol', 'Family', 'Protein', 'Entrez_ID', 'TF'\n",
       "    uns: 'assigned_batch_time_colors', 'cell.type_colors', 'clusters_colors', 'coarse_clusters_colors', 'subset_colors'\n",
       "    obsm: 'X_pca', 'X_umap', 'X_umap_abpxp'"
      ]
     },
     "execution_count": 13,
     "metadata": {},
     "output_type": "execute_result"
    }
   ],
   "source": [
    "mask = adata.obs[\"subset\"] == LINEAGE_INFO\n",
    "adata = adata[mask].copy()\n",
    "adata"
   ]
  },
  {
   "cell_type": "markdown",
   "id": "73b5ab77",
   "metadata": {},
   "source": [
    "Preprocess"
   ]
  },
  {
   "cell_type": "code",
   "execution_count": 14,
   "id": "75c20d3d",
   "metadata": {},
   "outputs": [],
   "source": [
    "sc.pp.normalize_total(adata)\n",
    "sc.pp.log1p(adata)\n",
    "sc.pp.highly_variable_genes(adata, n_top_genes=3000)\n",
    "sc.pp.pca(adata)"
   ]
  },
  {
   "cell_type": "markdown",
   "id": "a1031b74",
   "metadata": {},
   "source": [
    "Create lineage trees"
   ]
  },
  {
   "cell_type": "code",
   "execution_count": 15,
   "id": "875add1a",
   "metadata": {},
   "outputs": [
    {
     "name": "stdout",
     "output_type": "stream",
     "text": [
      "Creating tree for batch time 130\n",
      "Creating tree for batch time 170\n",
      "Creating tree for batch time 210\n",
      "Creating tree for batch time 270\n",
      "Creating tree for batch time 330\n",
      "Creating tree for batch time 390\n",
      "Creating tree for batch time 450\n",
      "Creating tree for batch time 510\n",
      "Creating tree for batch time 580\n",
      "Creating tree for batch time 650\n",
      "Creating tree for batch time 75\n",
      "Creating tree for batch time 700\n"
     ]
    }
   ],
   "source": [
    "rng = np.random.RandomState(RANDOM_STATE)\n",
    "trees = {}\n",
    "for batch_time in adata.obs[TIME_KEY].cat.categories:\n",
    "    print(f\"Creating tree for batch time {batch_time}\")\n",
    "    seed = rng.randint(0, 2**16 - 1)\n",
    "    trees[batch_time] = mu.ul.create_lineage_tree(\n",
    "        adata, batch_time=batch_time, reference_tree=full_reference_tree, seed=seed\n",
    "    )\n",
    "\n",
    "adata.uns[\"trees\"] = trees"
   ]
  },
  {
   "cell_type": "markdown",
   "id": "b463a667-e996-4017-ad3d-72653a99148d",
   "metadata": {},
   "source": [
    "In addition, import the grid search results to inform our choice of hyperparematers. The results of our gridsearch are included in this repositroy in `data/packer_c_elegans`. "
   ]
  },
  {
   "cell_type": "code",
   "execution_count": 16,
   "id": "00235bab-7871-4476-b181-11430c61c5a6",
   "metadata": {},
   "outputs": [],
   "source": [
    "grid_df = pd.read_csv(DATA_DIR / \"ML_2024-06-05_celegans_precise_and_abpxp.csv\", index_col=0)"
   ]
  },
  {
   "cell_type": "markdown",
   "id": "651107d8-0b27-4f66-a323-0d14c8cf0316",
   "metadata": {},
   "source": [
    "### Visualize in an embedding"
   ]
  },
  {
   "cell_type": "markdown",
   "id": "f3018694",
   "metadata": {},
   "source": [
    "For convenience, rename the UMAP. "
   ]
  },
  {
   "cell_type": "code",
   "execution_count": 17,
   "id": "b58b0668",
   "metadata": {},
   "outputs": [],
   "source": [
    "adata.obsm[\"X_umap\"] = adata.obsm[\"X_umap_abpxp\"].copy()"
   ]
  },
  {
   "cell_type": "markdown",
   "id": "e6261540-4ab8-43fe-93c9-fa1f85c47742",
   "metadata": {},
   "source": [
    "Rearrange the order in which clusters appear"
   ]
  },
  {
   "cell_type": "code",
   "execution_count": 18,
   "id": "14458184-0f83-46e1-aba8-60a341cff9c2",
   "metadata": {},
   "outputs": [],
   "source": [
    "adata = mu.ul.sort_clusters(adata)"
   ]
  },
  {
   "cell_type": "markdown",
   "id": "d1bf6166-cea7-49cd-899e-7bd22c5d27e7",
   "metadata": {},
   "source": [
    "Show in the UMAP. "
   ]
  },
  {
   "cell_type": "code",
   "execution_count": 19,
   "id": "8bca0066-72c2-4f71-8ddb-8fb0a1df2fa9",
   "metadata": {},
   "outputs": [
    {
     "data": {
      "image/png": "[encoded data removed]",
      "text/plain": [
       "<Figure size 480x320 with 1 Axes>"
      ]
     },
     "metadata": {
      "image/png": {
       "height": 282,
       "width": 720
      }
     },
     "output_type": "display_data"
    }
   ],
   "source": [
    "scv.pl.scatter(adata, c=[\"clusters\"], legend_loc=\"right\")"
   ]
  },
  {
   "cell_type": "markdown",
   "id": "b00f8421",
   "metadata": {},
   "source": [
    "## Compute the couplings"
   ]
  },
  {
   "cell_type": "markdown",
   "id": "339f01fa",
   "metadata": {},
   "source": [
    "Subset to the relevant timepoints. "
   ]
  },
  {
   "cell_type": "code",
   "execution_count": 20,
   "id": "2bdb4e8a",
   "metadata": {},
   "outputs": [
    {
     "data": {
      "text/plain": [
       "AnnData object with n_obs × n_vars = 5097 × 20222\n",
       "    obs: 'idx', 'barcode', 'n.umi', 'time.point', 'batch', 'Size_Factor', 'cell.type', 'cell.subtype', 'plot.cell.type', 'raw.embryo.time', 'embryo.time', 'embryo.time.bin', 'raw.embryo.time.bin', 'lineage', 'passed_initial_QC_or_later_whitelisted', 'random_precise_lineage', 'assigned_batch_time', 'subset', 'clusters', 'coarse_clusters'\n",
       "    var: 'Ensembl', 'gene_short_name', 'Symbol', 'Family', 'Protein', 'Entrez_ID', 'TF', 'highly_variable', 'means', 'dispersions', 'dispersions_norm'\n",
       "    uns: 'assigned_batch_time_colors', 'cell.type_colors', 'clusters_colors', 'coarse_clusters_colors', 'subset_colors', 'log1p', 'hvg', 'pca', 'trees'\n",
       "    obsm: 'X_pca', 'X_umap', 'X_umap_abpxp'\n",
       "    varm: 'PCs'"
      ]
     },
     "execution_count": 20,
     "metadata": {},
     "output_type": "execute_result"
    }
   ],
   "source": [
    "adata = adata[adata.obs[TIME_KEY].isin(TIMEPOINTS)].copy()\n",
    "adata.uns[f\"{TIME_KEY}_colors\"] = [\n",
    "    mcolors.to_hex(c) for c in plt.get_cmap(\"gnuplot\")(np.linspace(0, 1, len(TIMEPOINTS)))\n",
    "]\n",
    "\n",
    "adata"
   ]
  },
  {
   "cell_type": "markdown",
   "id": "b8475808-3f84-4825-9ef6-84ac2171057b",
   "metadata": {},
   "source": [
    "Query hyperparameters"
   ]
  },
  {
   "cell_type": "code",
   "execution_count": 26,
   "id": "caf3adb8-19b2-4e41-8c97-6da148be17e9",
   "metadata": {},
   "outputs": [
    {
     "name": "stdout",
     "output_type": "stream",
     "text": [
      "Removing 19/240 not converged runs.\n"
     ]
    }
   ],
   "source": [
    "if LINEAGE_INFO == \"complete\":\n",
    "    lineage_info_query = \"precise\"\n",
    "else:\n",
    "    lineage_info_query = LINEAGE_INFO\n",
    "\n",
    "hyper_df = mu.ul.get_best_runs(\n",
    "    df=grid_df, lineage_info=lineage_info_query, group_key=\"kind\", group=\"moslin\", converged=True\n",
    ")\n",
    "\n",
    "# set some other parameters manually\n",
    "tau_a = 1.0\n",
    "timepoint_pairs = [(170, 210), (450, 510)]"
   ]
  },
  {
   "cell_type": "markdown",
   "id": "1f1f1392-89d5-4e44-bf22-bfd3f7af4a9d",
   "metadata": {},
   "source": [
    "Loop over different percentages over information to perturb. "
   ]
  },
  {
   "cell_type": "code",
   "execution_count": 28,
   "id": "d4291350-49d8-4c62-991b-e52a7692fbbe",
   "metadata": {
    "scrolled": true
   },
   "outputs": [
    {
     "name": "stdout",
     "output_type": "stream",
     "text": [
      "early_tp=170, late_tp=210, epsilon=0.01, alpha=0.98 scale_cost='mean' max_inner_iterations=30000.0\n"
     ]
    },
    {
     "name": "stderr",
     "output_type": "stream",
     "text": [
      "Processing:   0%|          | 0/15 [00:00<?, ?it/s]"
     ]
    },
    {
     "name": "stdout",
     "output_type": "stream",
     "text": [
      "\u001b[31mWARNING \u001b[0m Densifying data in `adata.obsp\u001b[1m[\u001b[0m\u001b[32m'cost_matrices'\u001b[0m\u001b[1m]\u001b[0m`                                                          \n",
      "\u001b[31mWARNING \u001b[0m Densifying data in `adata.obsp\u001b[1m[\u001b[0m\u001b[32m'cost_matrices'\u001b[0m\u001b[1m]\u001b[0m`                                                          \n",
      "\u001b[34mINFO    \u001b[0m Solving `\u001b[1;36m1\u001b[0m` problems                                                                                      \n",
      "\u001b[34mINFO    \u001b[0m Solving problem BirthDeathProblem\u001b[1m[\u001b[0m\u001b[33mstage\u001b[0m=\u001b[32m'prepared'\u001b[0m, \u001b[33mshape\u001b[0m=\u001b[1m(\u001b[0m\u001b[1;36m151\u001b[0m, \u001b[1;36m531\u001b[0m\u001b[1m)\u001b[0m\u001b[1m]\u001b[0m.                                    \n"
     ]
    },
    {
     "name": "stderr",
     "output_type": "stream",
     "text": [
      "/cluster/project/treutlein/USERS/mlange/mambaforge/envs/moslin_3/lib/python3.11/site-packages/lineageot/evaluation.py:159: UserWarning: Expanded coupling not computed correctly. Check for infeasibility in row and column OT calculations. Updating the python optimal transport package may help (https://github.com/PythonOT/POT/issues/93).\n",
      "If total mass - 1 is small, this may not significantly affect downstream results.\n",
      "Total mass - 1: -1.6542617242709667e-07\n",
      "  warnings.warn((\"Expanded coupling not computed correctly. \" +\n",
      "/cluster/project/treutlein/USERS/mlange/mambaforge/envs/moslin_3/lib/python3.11/site-packages/lineageot/evaluation.py:159: UserWarning: Expanded coupling not computed correctly. Check for infeasibility in row and column OT calculations. Updating the python optimal transport package may help (https://github.com/PythonOT/POT/issues/93).\n",
      "If total mass - 1 is small, this may not significantly affect downstream results.\n",
      "Total mass - 1: -1.2890086520389588e-07\n",
      "  warnings.warn((\"Expanded coupling not computed correctly. \" +\n",
      "Processing:   7%|▋         | 1/15 [00:08<02:05,  8.99s/it]"
     ]
    },
    {
     "name": "stdout",
     "output_type": "stream",
     "text": [
      "\u001b[31mWARNING \u001b[0m Densifying data in `adata.obsp\u001b[1m[\u001b[0m\u001b[32m'cost_matrices'\u001b[0m\u001b[1m]\u001b[0m`                                                          \n",
      "\u001b[31mWARNING \u001b[0m Densifying data in `adata.obsp\u001b[1m[\u001b[0m\u001b[32m'cost_matrices'\u001b[0m\u001b[1m]\u001b[0m`                                                          \n",
      "\u001b[34mINFO    \u001b[0m Solving `\u001b[1;36m1\u001b[0m` problems                                                                                      \n",
      "\u001b[34mINFO    \u001b[0m Solving problem BirthDeathProblem\u001b[1m[\u001b[0m\u001b[33mstage\u001b[0m=\u001b[32m'prepared'\u001b[0m, \u001b[33mshape\u001b[0m=\u001b[1m(\u001b[0m\u001b[1;36m151\u001b[0m, \u001b[1;36m531\u001b[0m\u001b[1m)\u001b[0m\u001b[1m]\u001b[0m.                                    \n"
     ]
    },
    {
     "name": "stderr",
     "output_type": "stream",
     "text": [
      "/cluster/project/treutlein/USERS/mlange/mambaforge/envs/moslin_3/lib/python3.11/site-packages/lineageot/evaluation.py:159: UserWarning: Expanded coupling not computed correctly. Check for infeasibility in row and column OT calculations. Updating the python optimal transport package may help (https://github.com/PythonOT/POT/issues/93).\n",
      "If total mass - 1 is small, this may not significantly affect downstream results.\n",
      "Total mass - 1: -1.5692785382270813e-07\n",
      "  warnings.warn((\"Expanded coupling not computed correctly. \" +\n",
      "/cluster/project/treutlein/USERS/mlange/mambaforge/envs/moslin_3/lib/python3.11/site-packages/lineageot/evaluation.py:159: UserWarning: Expanded coupling not computed correctly. Check for infeasibility in row and column OT calculations. Updating the python optimal transport package may help (https://github.com/PythonOT/POT/issues/93).\n",
      "If total mass - 1 is small, this may not significantly affect downstream results.\n",
      "Total mass - 1: -1.1714291781039776e-07\n",
      "  warnings.warn((\"Expanded coupling not computed correctly. \" +\n",
      "Processing:  13%|█▎        | 2/15 [00:12<01:12,  5.54s/it]"
     ]
    },
    {
     "name": "stdout",
     "output_type": "stream",
     "text": [
      "\u001b[31mWARNING \u001b[0m Densifying data in `adata.obsp\u001b[1m[\u001b[0m\u001b[32m'cost_matrices'\u001b[0m\u001b[1m]\u001b[0m`                                                          \n",
      "\u001b[31mWARNING \u001b[0m Densifying data in `adata.obsp\u001b[1m[\u001b[0m\u001b[32m'cost_matrices'\u001b[0m\u001b[1m]\u001b[0m`                                                          \n",
      "\u001b[34mINFO    \u001b[0m Solving `\u001b[1;36m1\u001b[0m` problems                                                                                      \n",
      "\u001b[34mINFO    \u001b[0m Solving problem BirthDeathProblem\u001b[1m[\u001b[0m\u001b[33mstage\u001b[0m=\u001b[32m'prepared'\u001b[0m, \u001b[33mshape\u001b[0m=\u001b[1m(\u001b[0m\u001b[1;36m151\u001b[0m, \u001b[1;36m531\u001b[0m\u001b[1m)\u001b[0m\u001b[1m]\u001b[0m.                                    \n"
     ]
    },
    {
     "name": "stderr",
     "output_type": "stream",
     "text": [
      "/cluster/project/treutlein/USERS/mlange/mambaforge/envs/moslin_3/lib/python3.11/site-packages/lineageot/evaluation.py:159: UserWarning: Expanded coupling not computed correctly. Check for infeasibility in row and column OT calculations. Updating the python optimal transport package may help (https://github.com/PythonOT/POT/issues/93).\n",
      "If total mass - 1 is small, this may not significantly affect downstream results.\n",
      "Total mass - 1: -1.103617252029565e-07\n",
      "  warnings.warn((\"Expanded coupling not computed correctly. \" +\n",
      "/cluster/project/treutlein/USERS/mlange/mambaforge/envs/moslin_3/lib/python3.11/site-packages/lineageot/evaluation.py:159: UserWarning: Expanded coupling not computed correctly. Check for infeasibility in row and column OT calculations. Updating the python optimal transport package may help (https://github.com/PythonOT/POT/issues/93).\n",
      "If total mass - 1 is small, this may not significantly affect downstream results.\n",
      "Total mass - 1: -3.736931841746838e-08\n",
      "  warnings.warn((\"Expanded coupling not computed correctly. \" +\n",
      "Processing:  20%|██        | 3/15 [00:15<00:53,  4.46s/it]"
     ]
    },
    {
     "name": "stdout",
     "output_type": "stream",
     "text": [
      "\u001b[31mWARNING \u001b[0m Densifying data in `adata.obsp\u001b[1m[\u001b[0m\u001b[32m'cost_matrices'\u001b[0m\u001b[1m]\u001b[0m`                                                          \n",
      "\u001b[31mWARNING \u001b[0m Densifying data in `adata.obsp\u001b[1m[\u001b[0m\u001b[32m'cost_matrices'\u001b[0m\u001b[1m]\u001b[0m`                                                          \n",
      "\u001b[34mINFO    \u001b[0m Solving `\u001b[1;36m1\u001b[0m` problems                                                                                      \n",
      "\u001b[34mINFO    \u001b[0m Solving problem BirthDeathProblem\u001b[1m[\u001b[0m\u001b[33mstage\u001b[0m=\u001b[32m'prepared'\u001b[0m, \u001b[33mshape\u001b[0m=\u001b[1m(\u001b[0m\u001b[1;36m151\u001b[0m, \u001b[1;36m531\u001b[0m\u001b[1m)\u001b[0m\u001b[1m]\u001b[0m.                                    \n"
     ]
    },
    {
     "name": "stderr",
     "output_type": "stream",
     "text": [
      "/cluster/project/treutlein/USERS/mlange/mambaforge/envs/moslin_3/lib/python3.11/site-packages/lineageot/evaluation.py:159: UserWarning: Expanded coupling not computed correctly. Check for infeasibility in row and column OT calculations. Updating the python optimal transport package may help (https://github.com/PythonOT/POT/issues/93).\n",
      "If total mass - 1 is small, this may not significantly affect downstream results.\n",
      "Total mass - 1: -8.242204774244755e-08\n",
      "  warnings.warn((\"Expanded coupling not computed correctly. \" +\n",
      "Processing:  27%|██▋       | 4/15 [00:18<00:43,  3.97s/it]"
     ]
    },
    {
     "name": "stdout",
     "output_type": "stream",
     "text": [
      "\u001b[31mWARNING \u001b[0m Densifying data in `adata.obsp\u001b[1m[\u001b[0m\u001b[32m'cost_matrices'\u001b[0m\u001b[1m]\u001b[0m`                                                          \n",
      "\u001b[31mWARNING \u001b[0m Densifying data in `adata.obsp\u001b[1m[\u001b[0m\u001b[32m'cost_matrices'\u001b[0m\u001b[1m]\u001b[0m`                                                          \n",
      "\u001b[34mINFO    \u001b[0m Solving `\u001b[1;36m1\u001b[0m` problems                                                                                      \n",
      "\u001b[34mINFO    \u001b[0m Solving problem BirthDeathProblem\u001b[1m[\u001b[0m\u001b[33mstage\u001b[0m=\u001b[32m'prepared'\u001b[0m, \u001b[33mshape\u001b[0m=\u001b[1m(\u001b[0m\u001b[1;36m151\u001b[0m, \u001b[1;36m531\u001b[0m\u001b[1m)\u001b[0m\u001b[1m]\u001b[0m.                                    \n"
     ]
    },
    {
     "name": "stderr",
     "output_type": "stream",
     "text": [
      "/cluster/project/treutlein/USERS/mlange/mambaforge/envs/moslin_3/lib/python3.11/site-packages/lineageot/evaluation.py:159: UserWarning: Expanded coupling not computed correctly. Check for infeasibility in row and column OT calculations. Updating the python optimal transport package may help (https://github.com/PythonOT/POT/issues/93).\n",
      "If total mass - 1 is small, this may not significantly affect downstream results.\n",
      "Total mass - 1: -1.9604340195655823e-07\n",
      "  warnings.warn((\"Expanded coupling not computed correctly. \" +\n",
      "/cluster/project/treutlein/USERS/mlange/mambaforge/envs/moslin_3/lib/python3.11/site-packages/lineageot/evaluation.py:159: UserWarning: Expanded coupling not computed correctly. Check for infeasibility in row and column OT calculations. Updating the python optimal transport package may help (https://github.com/PythonOT/POT/issues/93).\n",
      "If total mass - 1 is small, this may not significantly affect downstream results.\n",
      "Total mass - 1: -1.0308576758877308e-07\n",
      "  warnings.warn((\"Expanded coupling not computed correctly. \" +\n",
      "Processing:  33%|███▎      | 5/15 [00:21<00:36,  3.70s/it]"
     ]
    },
    {
     "name": "stdout",
     "output_type": "stream",
     "text": [
      "\u001b[31mWARNING \u001b[0m Densifying data in `adata.obsp\u001b[1m[\u001b[0m\u001b[32m'cost_matrices'\u001b[0m\u001b[1m]\u001b[0m`                                                          \n",
      "\u001b[31mWARNING \u001b[0m Densifying data in `adata.obsp\u001b[1m[\u001b[0m\u001b[32m'cost_matrices'\u001b[0m\u001b[1m]\u001b[0m`                                                          \n",
      "\u001b[34mINFO    \u001b[0m Solving `\u001b[1;36m1\u001b[0m` problems                                                                                      \n",
      "\u001b[34mINFO    \u001b[0m Solving problem BirthDeathProblem\u001b[1m[\u001b[0m\u001b[33mstage\u001b[0m=\u001b[32m'prepared'\u001b[0m, \u001b[33mshape\u001b[0m=\u001b[1m(\u001b[0m\u001b[1;36m151\u001b[0m, \u001b[1;36m531\u001b[0m\u001b[1m)\u001b[0m\u001b[1m]\u001b[0m.                                    \n"
     ]
    },
    {
     "name": "stderr",
     "output_type": "stream",
     "text": [
      "/cluster/project/treutlein/USERS/mlange/mambaforge/envs/moslin_3/lib/python3.11/site-packages/lineageot/evaluation.py:159: UserWarning: Expanded coupling not computed correctly. Check for infeasibility in row and column OT calculations. Updating the python optimal transport package may help (https://github.com/PythonOT/POT/issues/93).\n",
      "If total mass - 1 is small, this may not significantly affect downstream results.\n",
      "Total mass - 1: -1.3562385003940136e-07\n",
      "  warnings.warn((\"Expanded coupling not computed correctly. \" +\n",
      "/cluster/project/treutlein/USERS/mlange/mambaforge/envs/moslin_3/lib/python3.11/site-packages/lineageot/evaluation.py:159: UserWarning: Expanded coupling not computed correctly. Check for infeasibility in row and column OT calculations. Updating the python optimal transport package may help (https://github.com/PythonOT/POT/issues/93).\n",
      "If total mass - 1 is small, this may not significantly affect downstream results.\n",
      "Total mass - 1: -5.7392753660678864e-08\n",
      "  warnings.warn((\"Expanded coupling not computed correctly. \" +\n",
      "Processing:  40%|████      | 6/15 [00:24<00:31,  3.52s/it]"
     ]
    },
    {
     "name": "stdout",
     "output_type": "stream",
     "text": [
      "\u001b[31mWARNING \u001b[0m Densifying data in `adata.obsp\u001b[1m[\u001b[0m\u001b[32m'cost_matrices'\u001b[0m\u001b[1m]\u001b[0m`                                                          \n",
      "\u001b[31mWARNING \u001b[0m Densifying data in `adata.obsp\u001b[1m[\u001b[0m\u001b[32m'cost_matrices'\u001b[0m\u001b[1m]\u001b[0m`                                                          \n",
      "\u001b[34mINFO    \u001b[0m Solving `\u001b[1;36m1\u001b[0m` problems                                                                                      \n",
      "\u001b[34mINFO    \u001b[0m Solving problem BirthDeathProblem\u001b[1m[\u001b[0m\u001b[33mstage\u001b[0m=\u001b[32m'prepared'\u001b[0m, \u001b[33mshape\u001b[0m=\u001b[1m(\u001b[0m\u001b[1;36m151\u001b[0m, \u001b[1;36m531\u001b[0m\u001b[1m)\u001b[0m\u001b[1m]\u001b[0m.                                    \n"
     ]
    },
    {
     "name": "stderr",
     "output_type": "stream",
     "text": [
      "/cluster/project/treutlein/USERS/mlange/mambaforge/envs/moslin_3/lib/python3.11/site-packages/lineageot/evaluation.py:159: UserWarning: Expanded coupling not computed correctly. Check for infeasibility in row and column OT calculations. Updating the python optimal transport package may help (https://github.com/PythonOT/POT/issues/93).\n",
      "If total mass - 1 is small, this may not significantly affect downstream results.\n",
      "Total mass - 1: -4.3422915041446686e-08\n",
      "  warnings.warn((\"Expanded coupling not computed correctly. \" +\n",
      "/cluster/project/treutlein/USERS/mlange/mambaforge/envs/moslin_3/lib/python3.11/site-packages/lineageot/evaluation.py:159: UserWarning: Expanded coupling not computed correctly. Check for infeasibility in row and column OT calculations. Updating the python optimal transport package may help (https://github.com/PythonOT/POT/issues/93).\n",
      "If total mass - 1 is small, this may not significantly affect downstream results.\n",
      "Total mass - 1: -1.9179424382009813e-08\n",
      "  warnings.warn((\"Expanded coupling not computed correctly. \" +\n",
      "Processing:  47%|████▋     | 7/15 [00:28<00:27,  3.41s/it]"
     ]
    },
    {
     "name": "stdout",
     "output_type": "stream",
     "text": [
      "\u001b[31mWARNING \u001b[0m Densifying data in `adata.obsp\u001b[1m[\u001b[0m\u001b[32m'cost_matrices'\u001b[0m\u001b[1m]\u001b[0m`                                                          \n",
      "\u001b[31mWARNING \u001b[0m Densifying data in `adata.obsp\u001b[1m[\u001b[0m\u001b[32m'cost_matrices'\u001b[0m\u001b[1m]\u001b[0m`                                                          \n",
      "\u001b[34mINFO    \u001b[0m Solving `\u001b[1;36m1\u001b[0m` problems                                                                                      \n",
      "\u001b[34mINFO    \u001b[0m Solving problem BirthDeathProblem\u001b[1m[\u001b[0m\u001b[33mstage\u001b[0m=\u001b[32m'prepared'\u001b[0m, \u001b[33mshape\u001b[0m=\u001b[1m(\u001b[0m\u001b[1;36m151\u001b[0m, \u001b[1;36m531\u001b[0m\u001b[1m)\u001b[0m\u001b[1m]\u001b[0m.                                    \n"
     ]
    },
    {
     "name": "stderr",
     "output_type": "stream",
     "text": [
      "/cluster/project/treutlein/USERS/mlange/mambaforge/envs/moslin_3/lib/python3.11/site-packages/lineageot/evaluation.py:159: UserWarning: Expanded coupling not computed correctly. Check for infeasibility in row and column OT calculations. Updating the python optimal transport package may help (https://github.com/PythonOT/POT/issues/93).\n",
      "If total mass - 1 is small, this may not significantly affect downstream results.\n",
      "Total mass - 1: -4.435423772708447e-08\n",
      "  warnings.warn((\"Expanded coupling not computed correctly. \" +\n",
      "/cluster/project/treutlein/USERS/mlange/mambaforge/envs/moslin_3/lib/python3.11/site-packages/lineageot/evaluation.py:159: UserWarning: Expanded coupling not computed correctly. Check for infeasibility in row and column OT calculations. Updating the python optimal transport package may help (https://github.com/PythonOT/POT/issues/93).\n",
      "If total mass - 1 is small, this may not significantly affect downstream results.\n",
      "Total mass - 1: -3.2334355637431145e-08\n",
      "  warnings.warn((\"Expanded coupling not computed correctly. \" +\n",
      "Processing:  53%|█████▎    | 8/15 [00:31<00:23,  3.35s/it]"
     ]
    },
    {
     "name": "stdout",
     "output_type": "stream",
     "text": [
      "\u001b[31mWARNING \u001b[0m Densifying data in `adata.obsp\u001b[1m[\u001b[0m\u001b[32m'cost_matrices'\u001b[0m\u001b[1m]\u001b[0m`                                                          \n",
      "\u001b[31mWARNING \u001b[0m Densifying data in `adata.obsp\u001b[1m[\u001b[0m\u001b[32m'cost_matrices'\u001b[0m\u001b[1m]\u001b[0m`                                                          \n",
      "\u001b[34mINFO    \u001b[0m Solving `\u001b[1;36m1\u001b[0m` problems                                                                                      \n",
      "\u001b[34mINFO    \u001b[0m Solving problem BirthDeathProblem\u001b[1m[\u001b[0m\u001b[33mstage\u001b[0m=\u001b[32m'prepared'\u001b[0m, \u001b[33mshape\u001b[0m=\u001b[1m(\u001b[0m\u001b[1;36m151\u001b[0m, \u001b[1;36m531\u001b[0m\u001b[1m)\u001b[0m\u001b[1m]\u001b[0m.                                    \n"
     ]
    },
    {
     "name": "stderr",
     "output_type": "stream",
     "text": [
      "/cluster/project/treutlein/USERS/mlange/mambaforge/envs/moslin_3/lib/python3.11/site-packages/lineageot/evaluation.py:159: UserWarning: Expanded coupling not computed correctly. Check for infeasibility in row and column OT calculations. Updating the python optimal transport package may help (https://github.com/PythonOT/POT/issues/93).\n",
      "If total mass - 1 is small, this may not significantly affect downstream results.\n",
      "Total mass - 1: -5.6694261729717255e-08\n",
      "  warnings.warn((\"Expanded coupling not computed correctly. \" +\n",
      "/cluster/project/treutlein/USERS/mlange/mambaforge/envs/moslin_3/lib/python3.11/site-packages/lineageot/evaluation.py:159: UserWarning: Expanded coupling not computed correctly. Check for infeasibility in row and column OT calculations. Updating the python optimal transport package may help (https://github.com/PythonOT/POT/issues/93).\n",
      "If total mass - 1 is small, this may not significantly affect downstream results.\n",
      "Total mass - 1: -5.0815287866434744e-08\n",
      "  warnings.warn((\"Expanded coupling not computed correctly. \" +\n",
      "Processing:  60%|██████    | 9/15 [00:34<00:19,  3.31s/it]"
     ]
    },
    {
     "name": "stdout",
     "output_type": "stream",
     "text": [
      "\u001b[31mWARNING \u001b[0m Densifying data in `adata.obsp\u001b[1m[\u001b[0m\u001b[32m'cost_matrices'\u001b[0m\u001b[1m]\u001b[0m`                                                          \n",
      "\u001b[31mWARNING \u001b[0m Densifying data in `adata.obsp\u001b[1m[\u001b[0m\u001b[32m'cost_matrices'\u001b[0m\u001b[1m]\u001b[0m`                                                          \n",
      "\u001b[34mINFO    \u001b[0m Solving `\u001b[1;36m1\u001b[0m` problems                                                                                      \n",
      "\u001b[34mINFO    \u001b[0m Solving problem BirthDeathProblem\u001b[1m[\u001b[0m\u001b[33mstage\u001b[0m=\u001b[32m'prepared'\u001b[0m, \u001b[33mshape\u001b[0m=\u001b[1m(\u001b[0m\u001b[1;36m151\u001b[0m, \u001b[1;36m531\u001b[0m\u001b[1m)\u001b[0m\u001b[1m]\u001b[0m.                                    \n"
     ]
    },
    {
     "name": "stderr",
     "output_type": "stream",
     "text": [
      "/cluster/project/treutlein/USERS/mlange/mambaforge/envs/moslin_3/lib/python3.11/site-packages/lineageot/evaluation.py:159: UserWarning: Expanded coupling not computed correctly. Check for infeasibility in row and column OT calculations. Updating the python optimal transport package may help (https://github.com/PythonOT/POT/issues/93).\n",
      "If total mass - 1 is small, this may not significantly affect downstream results.\n",
      "Total mass - 1: 2.9569491744041443e-08\n",
      "  warnings.warn((\"Expanded coupling not computed correctly. \" +\n",
      "/cluster/project/treutlein/USERS/mlange/mambaforge/envs/moslin_3/lib/python3.11/site-packages/lineageot/evaluation.py:159: UserWarning: Expanded coupling not computed correctly. Check for infeasibility in row and column OT calculations. Updating the python optimal transport package may help (https://github.com/PythonOT/POT/issues/93).\n",
      "If total mass - 1 is small, this may not significantly affect downstream results.\n",
      "Total mass - 1: 3.675813786685467e-08\n",
      "  warnings.warn((\"Expanded coupling not computed correctly. \" +\n",
      "Processing:  67%|██████▋   | 10/15 [00:37<00:16,  3.31s/it]"
     ]
    },
    {
     "name": "stdout",
     "output_type": "stream",
     "text": [
      "\u001b[31mWARNING \u001b[0m Densifying data in `adata.obsp\u001b[1m[\u001b[0m\u001b[32m'cost_matrices'\u001b[0m\u001b[1m]\u001b[0m`                                                          \n",
      "\u001b[31mWARNING \u001b[0m Densifying data in `adata.obsp\u001b[1m[\u001b[0m\u001b[32m'cost_matrices'\u001b[0m\u001b[1m]\u001b[0m`                                                          \n",
      "\u001b[34mINFO    \u001b[0m Solving `\u001b[1;36m1\u001b[0m` problems                                                                                      \n",
      "\u001b[34mINFO    \u001b[0m Solving problem BirthDeathProblem\u001b[1m[\u001b[0m\u001b[33mstage\u001b[0m=\u001b[32m'prepared'\u001b[0m, \u001b[33mshape\u001b[0m=\u001b[1m(\u001b[0m\u001b[1;36m151\u001b[0m, \u001b[1;36m531\u001b[0m\u001b[1m)\u001b[0m\u001b[1m]\u001b[0m.                                    \n"
     ]
    },
    {
     "name": "stderr",
     "output_type": "stream",
     "text": [
      "/cluster/project/treutlein/USERS/mlange/mambaforge/envs/moslin_3/lib/python3.11/site-packages/lineageot/evaluation.py:159: UserWarning: Expanded coupling not computed correctly. Check for infeasibility in row and column OT calculations. Updating the python optimal transport package may help (https://github.com/PythonOT/POT/issues/93).\n",
      "If total mass - 1 is small, this may not significantly affect downstream results.\n",
      "Total mass - 1: -6.55418261885643e-08\n",
      "  warnings.warn((\"Expanded coupling not computed correctly. \" +\n",
      "/cluster/project/treutlein/USERS/mlange/mambaforge/envs/moslin_3/lib/python3.11/site-packages/lineageot/evaluation.py:159: UserWarning: Expanded coupling not computed correctly. Check for infeasibility in row and column OT calculations. Updating the python optimal transport package may help (https://github.com/PythonOT/POT/issues/93).\n",
      "If total mass - 1 is small, this may not significantly affect downstream results.\n",
      "Total mass - 1: -7.209018804132938e-08\n",
      "  warnings.warn((\"Expanded coupling not computed correctly. \" +\n",
      "Processing:  73%|███████▎  | 11/15 [00:41<00:13,  3.33s/it]"
     ]
    },
    {
     "name": "stdout",
     "output_type": "stream",
     "text": [
      "\u001b[31mWARNING \u001b[0m Densifying data in `adata.obsp\u001b[1m[\u001b[0m\u001b[32m'cost_matrices'\u001b[0m\u001b[1m]\u001b[0m`                                                          \n",
      "\u001b[31mWARNING \u001b[0m Densifying data in `adata.obsp\u001b[1m[\u001b[0m\u001b[32m'cost_matrices'\u001b[0m\u001b[1m]\u001b[0m`                                                          \n",
      "\u001b[34mINFO    \u001b[0m Solving `\u001b[1;36m1\u001b[0m` problems                                                                                      \n",
      "\u001b[34mINFO    \u001b[0m Solving problem BirthDeathProblem\u001b[1m[\u001b[0m\u001b[33mstage\u001b[0m=\u001b[32m'prepared'\u001b[0m, \u001b[33mshape\u001b[0m=\u001b[1m(\u001b[0m\u001b[1;36m151\u001b[0m, \u001b[1;36m531\u001b[0m\u001b[1m)\u001b[0m\u001b[1m]\u001b[0m.                                    \n"
     ]
    },
    {
     "name": "stderr",
     "output_type": "stream",
     "text": [
      "/cluster/project/treutlein/USERS/mlange/mambaforge/envs/moslin_3/lib/python3.11/site-packages/lineageot/evaluation.py:159: UserWarning: Expanded coupling not computed correctly. Check for infeasibility in row and column OT calculations. Updating the python optimal transport package may help (https://github.com/PythonOT/POT/issues/93).\n",
      "If total mass - 1 is small, this may not significantly affect downstream results.\n",
      "Total mass - 1: -1.8044374883174896e-08\n",
      "  warnings.warn((\"Expanded coupling not computed correctly. \" +\n",
      "/cluster/project/treutlein/USERS/mlange/mambaforge/envs/moslin_3/lib/python3.11/site-packages/lineageot/evaluation.py:159: UserWarning: Expanded coupling not computed correctly. Check for infeasibility in row and column OT calculations. Updating the python optimal transport package may help (https://github.com/PythonOT/POT/issues/93).\n",
      "If total mass - 1 is small, this may not significantly affect downstream results.\n",
      "Total mass - 1: -2.025626610890896e-08\n",
      "  warnings.warn((\"Expanded coupling not computed correctly. \" +\n",
      "Processing:  80%|████████  | 12/15 [00:45<00:10,  3.48s/it]"
     ]
    },
    {
     "name": "stdout",
     "output_type": "stream",
     "text": [
      "\u001b[31mWARNING \u001b[0m Densifying data in `adata.obsp\u001b[1m[\u001b[0m\u001b[32m'cost_matrices'\u001b[0m\u001b[1m]\u001b[0m`                                                          \n",
      "\u001b[31mWARNING \u001b[0m Densifying data in `adata.obsp\u001b[1m[\u001b[0m\u001b[32m'cost_matrices'\u001b[0m\u001b[1m]\u001b[0m`                                                          \n",
      "\u001b[34mINFO    \u001b[0m Solving `\u001b[1;36m1\u001b[0m` problems                                                                                      \n",
      "\u001b[34mINFO    \u001b[0m Solving problem BirthDeathProblem\u001b[1m[\u001b[0m\u001b[33mstage\u001b[0m=\u001b[32m'prepared'\u001b[0m, \u001b[33mshape\u001b[0m=\u001b[1m(\u001b[0m\u001b[1;36m151\u001b[0m, \u001b[1;36m531\u001b[0m\u001b[1m)\u001b[0m\u001b[1m]\u001b[0m.                                    \n"
     ]
    },
    {
     "name": "stderr",
     "output_type": "stream",
     "text": [
      "/cluster/project/treutlein/USERS/mlange/mambaforge/envs/moslin_3/lib/python3.11/site-packages/lineageot/evaluation.py:159: UserWarning: Expanded coupling not computed correctly. Check for infeasibility in row and column OT calculations. Updating the python optimal transport package may help (https://github.com/PythonOT/POT/issues/93).\n",
      "If total mass - 1 is small, this may not significantly affect downstream results.\n",
      "Total mass - 1: -3.096647571698696e-08\n",
      "  warnings.warn((\"Expanded coupling not computed correctly. \" +\n",
      "/cluster/project/treutlein/USERS/mlange/mambaforge/envs/moslin_3/lib/python3.11/site-packages/lineageot/evaluation.py:159: UserWarning: Expanded coupling not computed correctly. Check for infeasibility in row and column OT calculations. Updating the python optimal transport package may help (https://github.com/PythonOT/POT/issues/93).\n",
      "If total mass - 1 is small, this may not significantly affect downstream results.\n",
      "Total mass - 1: -3.5273842735605854e-08\n",
      "  warnings.warn((\"Expanded coupling not computed correctly. \" +\n",
      "Processing:  87%|████████▋ | 13/15 [00:48<00:06,  3.48s/it]"
     ]
    },
    {
     "name": "stdout",
     "output_type": "stream",
     "text": [
      "\u001b[31mWARNING \u001b[0m Densifying data in `adata.obsp\u001b[1m[\u001b[0m\u001b[32m'cost_matrices'\u001b[0m\u001b[1m]\u001b[0m`                                                          \n",
      "\u001b[31mWARNING \u001b[0m Densifying data in `adata.obsp\u001b[1m[\u001b[0m\u001b[32m'cost_matrices'\u001b[0m\u001b[1m]\u001b[0m`                                                          \n",
      "\u001b[34mINFO    \u001b[0m Solving `\u001b[1;36m1\u001b[0m` problems                                                                                      \n",
      "\u001b[34mINFO    \u001b[0m Solving problem BirthDeathProblem\u001b[1m[\u001b[0m\u001b[33mstage\u001b[0m=\u001b[32m'prepared'\u001b[0m, \u001b[33mshape\u001b[0m=\u001b[1m(\u001b[0m\u001b[1;36m151\u001b[0m, \u001b[1;36m531\u001b[0m\u001b[1m)\u001b[0m\u001b[1m]\u001b[0m.                                    \n"
     ]
    },
    {
     "name": "stderr",
     "output_type": "stream",
     "text": [
      "/cluster/project/treutlein/USERS/mlange/mambaforge/envs/moslin_3/lib/python3.11/site-packages/lineageot/evaluation.py:159: UserWarning: Expanded coupling not computed correctly. Check for infeasibility in row and column OT calculations. Updating the python optimal transport package may help (https://github.com/PythonOT/POT/issues/93).\n",
      "If total mass - 1 is small, this may not significantly affect downstream results.\n",
      "Total mass - 1: -4.3306499830642053e-08\n",
      "  warnings.warn((\"Expanded coupling not computed correctly. \" +\n",
      "/cluster/project/treutlein/USERS/mlange/mambaforge/envs/moslin_3/lib/python3.11/site-packages/lineageot/evaluation.py:159: UserWarning: Expanded coupling not computed correctly. Check for infeasibility in row and column OT calculations. Updating the python optimal transport package may help (https://github.com/PythonOT/POT/issues/93).\n",
      "If total mass - 1 is small, this may not significantly affect downstream results.\n",
      "Total mass - 1: -3.16067598760128e-08\n",
      "  warnings.warn((\"Expanded coupling not computed correctly. \" +\n",
      "Processing:  93%|█████████▎| 14/15 [00:52<00:03,  3.51s/it]"
     ]
    },
    {
     "name": "stdout",
     "output_type": "stream",
     "text": [
      "\u001b[31mWARNING \u001b[0m Densifying data in `adata.obsp\u001b[1m[\u001b[0m\u001b[32m'cost_matrices'\u001b[0m\u001b[1m]\u001b[0m`                                                          \n",
      "\u001b[31mWARNING \u001b[0m Densifying data in `adata.obsp\u001b[1m[\u001b[0m\u001b[32m'cost_matrices'\u001b[0m\u001b[1m]\u001b[0m`                                                          \n",
      "\u001b[34mINFO    \u001b[0m Solving `\u001b[1;36m1\u001b[0m` problems                                                                                      \n",
      "\u001b[34mINFO    \u001b[0m Solving problem BirthDeathProblem\u001b[1m[\u001b[0m\u001b[33mstage\u001b[0m=\u001b[32m'prepared'\u001b[0m, \u001b[33mshape\u001b[0m=\u001b[1m(\u001b[0m\u001b[1;36m151\u001b[0m, \u001b[1;36m531\u001b[0m\u001b[1m)\u001b[0m\u001b[1m]\u001b[0m.                                    \n"
     ]
    },
    {
     "name": "stderr",
     "output_type": "stream",
     "text": [
      "/cluster/project/treutlein/USERS/mlange/mambaforge/envs/moslin_3/lib/python3.11/site-packages/lineageot/evaluation.py:159: UserWarning: Expanded coupling not computed correctly. Check for infeasibility in row and column OT calculations. Updating the python optimal transport package may help (https://github.com/PythonOT/POT/issues/93).\n",
      "If total mass - 1 is small, this may not significantly affect downstream results.\n",
      "Total mass - 1: -1.1641532182693481e-07\n",
      "  warnings.warn((\"Expanded coupling not computed correctly. \" +\n",
      "/cluster/project/treutlein/USERS/mlange/mambaforge/envs/moslin_3/lib/python3.11/site-packages/lineageot/evaluation.py:159: UserWarning: Expanded coupling not computed correctly. Check for infeasibility in row and column OT calculations. Updating the python optimal transport package may help (https://github.com/PythonOT/POT/issues/93).\n",
      "If total mass - 1 is small, this may not significantly affect downstream results.\n",
      "Total mass - 1: -9.886571195050209e-08\n",
      "  warnings.warn((\"Expanded coupling not computed correctly. \" +\n",
      "Processing: 100%|██████████| 15/15 [00:55<00:00,  3.71s/it]\n"
     ]
    },
    {
     "name": "stdout",
     "output_type": "stream",
     "text": [
      "early_tp=450, late_tp=510, epsilon=0.01, alpha=0.98 scale_cost='mean' max_inner_iterations=30000.0\n"
     ]
    },
    {
     "name": "stderr",
     "output_type": "stream",
     "text": [
      "Processing:   0%|          | 0/15 [00:00<?, ?it/s]"
     ]
    },
    {
     "name": "stdout",
     "output_type": "stream",
     "text": [
      "\u001b[31mWARNING \u001b[0m Densifying data in `adata.obsp\u001b[1m[\u001b[0m\u001b[32m'cost_matrices'\u001b[0m\u001b[1m]\u001b[0m`                                                          \n",
      "\u001b[31mWARNING \u001b[0m Densifying data in `adata.obsp\u001b[1m[\u001b[0m\u001b[32m'cost_matrices'\u001b[0m\u001b[1m]\u001b[0m`                                                          \n",
      "\u001b[34mINFO    \u001b[0m Solving `\u001b[1;36m1\u001b[0m` problems                                                                                      \n",
      "\u001b[34mINFO    \u001b[0m Solving problem BirthDeathProblem\u001b[1m[\u001b[0m\u001b[33mstage\u001b[0m=\u001b[32m'prepared'\u001b[0m, \u001b[33mshape\u001b[0m=\u001b[1m(\u001b[0m\u001b[1;36m461\u001b[0m, \u001b[1;36m201\u001b[0m\u001b[1m)\u001b[0m\u001b[1m]\u001b[0m.                                    \n"
     ]
    },
    {
     "name": "stderr",
     "output_type": "stream",
     "text": [
      "/cluster/project/treutlein/USERS/mlange/mambaforge/envs/moslin_3/lib/python3.11/site-packages/lineageot/evaluation.py:159: UserWarning: Expanded coupling not computed correctly. Check for infeasibility in row and column OT calculations. Updating the python optimal transport package may help (https://github.com/PythonOT/POT/issues/93).\n",
      "If total mass - 1 is small, this may not significantly affect downstream results.\n",
      "Total mass - 1: -1.4435499895437687e-07\n",
      "  warnings.warn((\"Expanded coupling not computed correctly. \" +\n",
      "/cluster/project/treutlein/USERS/mlange/mambaforge/envs/moslin_3/lib/python3.11/site-packages/lineageot/evaluation.py:159: UserWarning: Expanded coupling not computed correctly. Check for infeasibility in row and column OT calculations. Updating the python optimal transport package may help (https://github.com/PythonOT/POT/issues/93).\n",
      "If total mass - 1 is small, this may not significantly affect downstream results.\n",
      "Total mass - 1: 1.1961674317717552e-08\n",
      "  warnings.warn((\"Expanded coupling not computed correctly. \" +\n",
      "Processing:   7%|▋         | 1/15 [00:08<01:57,  8.40s/it]"
     ]
    },
    {
     "name": "stdout",
     "output_type": "stream",
     "text": [
      "\u001b[31mWARNING \u001b[0m Densifying data in `adata.obsp\u001b[1m[\u001b[0m\u001b[32m'cost_matrices'\u001b[0m\u001b[1m]\u001b[0m`                                                          \n",
      "\u001b[31mWARNING \u001b[0m Densifying data in `adata.obsp\u001b[1m[\u001b[0m\u001b[32m'cost_matrices'\u001b[0m\u001b[1m]\u001b[0m`                                                          \n",
      "\u001b[34mINFO    \u001b[0m Solving `\u001b[1;36m1\u001b[0m` problems                                                                                      \n",
      "\u001b[34mINFO    \u001b[0m Solving problem BirthDeathProblem\u001b[1m[\u001b[0m\u001b[33mstage\u001b[0m=\u001b[32m'prepared'\u001b[0m, \u001b[33mshape\u001b[0m=\u001b[1m(\u001b[0m\u001b[1;36m461\u001b[0m, \u001b[1;36m201\u001b[0m\u001b[1m)\u001b[0m\u001b[1m]\u001b[0m.                                    \n"
     ]
    },
    {
     "name": "stderr",
     "output_type": "stream",
     "text": [
      "/cluster/project/treutlein/USERS/mlange/mambaforge/envs/moslin_3/lib/python3.11/site-packages/lineageot/evaluation.py:159: UserWarning: Expanded coupling not computed correctly. Check for infeasibility in row and column OT calculations. Updating the python optimal transport package may help (https://github.com/PythonOT/POT/issues/93).\n",
      "If total mass - 1 is small, this may not significantly affect downstream results.\n",
      "Total mass - 1: -2.407468856491235e-07\n",
      "  warnings.warn((\"Expanded coupling not computed correctly. \" +\n",
      "Processing:  13%|█▎        | 2/15 [00:11<01:12,  5.56s/it]"
     ]
    },
    {
     "name": "stdout",
     "output_type": "stream",
     "text": [
      "\u001b[31mWARNING \u001b[0m Densifying data in `adata.obsp\u001b[1m[\u001b[0m\u001b[32m'cost_matrices'\u001b[0m\u001b[1m]\u001b[0m`                                                          \n",
      "\u001b[31mWARNING \u001b[0m Densifying data in `adata.obsp\u001b[1m[\u001b[0m\u001b[32m'cost_matrices'\u001b[0m\u001b[1m]\u001b[0m`                                                          \n",
      "\u001b[34mINFO    \u001b[0m Solving `\u001b[1;36m1\u001b[0m` problems                                                                                      \n",
      "\u001b[34mINFO    \u001b[0m Solving problem BirthDeathProblem\u001b[1m[\u001b[0m\u001b[33mstage\u001b[0m=\u001b[32m'prepared'\u001b[0m, \u001b[33mshape\u001b[0m=\u001b[1m(\u001b[0m\u001b[1;36m461\u001b[0m, \u001b[1;36m201\u001b[0m\u001b[1m)\u001b[0m\u001b[1m]\u001b[0m.                                    \n"
     ]
    },
    {
     "name": "stderr",
     "output_type": "stream",
     "text": [
      "/cluster/project/treutlein/USERS/mlange/mambaforge/envs/moslin_3/lib/python3.11/site-packages/lineageot/evaluation.py:159: UserWarning: Expanded coupling not computed correctly. Check for infeasibility in row and column OT calculations. Updating the python optimal transport package may help (https://github.com/PythonOT/POT/issues/93).\n",
      "If total mass - 1 is small, this may not significantly affect downstream results.\n",
      "Total mass - 1: -4.400499166168359e-07\n",
      "  warnings.warn((\"Expanded coupling not computed correctly. \" +\n",
      "/cluster/project/treutlein/USERS/mlange/mambaforge/envs/moslin_3/lib/python3.11/site-packages/lineageot/evaluation.py:159: UserWarning: Expanded coupling not computed correctly. Check for infeasibility in row and column OT calculations. Updating the python optimal transport package may help (https://github.com/PythonOT/POT/issues/93).\n",
      "If total mass - 1 is small, this may not significantly affect downstream results.\n",
      "Total mass - 1: -8.94651748239994e-08\n",
      "  warnings.warn((\"Expanded coupling not computed correctly. \" +\n",
      "Processing:  20%|██        | 3/15 [00:15<00:57,  4.78s/it]"
     ]
    },
    {
     "name": "stdout",
     "output_type": "stream",
     "text": [
      "\u001b[31mWARNING \u001b[0m Densifying data in `adata.obsp\u001b[1m[\u001b[0m\u001b[32m'cost_matrices'\u001b[0m\u001b[1m]\u001b[0m`                                                          \n",
      "\u001b[31mWARNING \u001b[0m Densifying data in `adata.obsp\u001b[1m[\u001b[0m\u001b[32m'cost_matrices'\u001b[0m\u001b[1m]\u001b[0m`                                                          \n",
      "\u001b[34mINFO    \u001b[0m Solving `\u001b[1;36m1\u001b[0m` problems                                                                                      \n",
      "\u001b[34mINFO    \u001b[0m Solving problem BirthDeathProblem\u001b[1m[\u001b[0m\u001b[33mstage\u001b[0m=\u001b[32m'prepared'\u001b[0m, \u001b[33mshape\u001b[0m=\u001b[1m(\u001b[0m\u001b[1;36m461\u001b[0m, \u001b[1;36m201\u001b[0m\u001b[1m)\u001b[0m\u001b[1m]\u001b[0m.                                    \n"
     ]
    },
    {
     "name": "stderr",
     "output_type": "stream",
     "text": [
      "/cluster/project/treutlein/USERS/mlange/mambaforge/envs/moslin_3/lib/python3.11/site-packages/lineageot/evaluation.py:159: UserWarning: Expanded coupling not computed correctly. Check for infeasibility in row and column OT calculations. Updating the python optimal transport package may help (https://github.com/PythonOT/POT/issues/93).\n",
      "If total mass - 1 is small, this may not significantly affect downstream results.\n",
      "Total mass - 1: -2.0675361178668084e-07\n",
      "  warnings.warn((\"Expanded coupling not computed correctly. \" +\n",
      "/cluster/project/treutlein/USERS/mlange/mambaforge/envs/moslin_3/lib/python3.11/site-packages/lineageot/evaluation.py:159: UserWarning: Expanded coupling not computed correctly. Check for infeasibility in row and column OT calculations. Updating the python optimal transport package may help (https://github.com/PythonOT/POT/issues/93).\n",
      "If total mass - 1 is small, this may not significantly affect downstream results.\n",
      "Total mass - 1: -9.627547103985279e-08\n",
      "  warnings.warn((\"Expanded coupling not computed correctly. \" +\n",
      "Processing:  27%|██▋       | 4/15 [00:19<00:47,  4.30s/it]"
     ]
    },
    {
     "name": "stdout",
     "output_type": "stream",
     "text": [
      "\u001b[31mWARNING \u001b[0m Densifying data in `adata.obsp\u001b[1m[\u001b[0m\u001b[32m'cost_matrices'\u001b[0m\u001b[1m]\u001b[0m`                                                          \n",
      "\u001b[31mWARNING \u001b[0m Densifying data in `adata.obsp\u001b[1m[\u001b[0m\u001b[32m'cost_matrices'\u001b[0m\u001b[1m]\u001b[0m`                                                          \n",
      "\u001b[34mINFO    \u001b[0m Solving `\u001b[1;36m1\u001b[0m` problems                                                                                      \n",
      "\u001b[34mINFO    \u001b[0m Solving problem BirthDeathProblem\u001b[1m[\u001b[0m\u001b[33mstage\u001b[0m=\u001b[32m'prepared'\u001b[0m, \u001b[33mshape\u001b[0m=\u001b[1m(\u001b[0m\u001b[1;36m461\u001b[0m, \u001b[1;36m201\u001b[0m\u001b[1m)\u001b[0m\u001b[1m]\u001b[0m.                                    \n"
     ]
    },
    {
     "name": "stderr",
     "output_type": "stream",
     "text": [
      "/cluster/project/treutlein/USERS/mlange/mambaforge/envs/moslin_3/lib/python3.11/site-packages/lineageot/evaluation.py:159: UserWarning: Expanded coupling not computed correctly. Check for infeasibility in row and column OT calculations. Updating the python optimal transport package may help (https://github.com/PythonOT/POT/issues/93).\n",
      "If total mass - 1 is small, this may not significantly affect downstream results.\n",
      "Total mass - 1: -3.119930636064083e-08\n",
      "  warnings.warn((\"Expanded coupling not computed correctly. \" +\n",
      "Processing:  33%|███▎      | 5/15 [00:23<00:41,  4.18s/it]"
     ]
    },
    {
     "name": "stdout",
     "output_type": "stream",
     "text": [
      "\u001b[31mWARNING \u001b[0m Densifying data in `adata.obsp\u001b[1m[\u001b[0m\u001b[32m'cost_matrices'\u001b[0m\u001b[1m]\u001b[0m`                                                          \n",
      "\u001b[31mWARNING \u001b[0m Densifying data in `adata.obsp\u001b[1m[\u001b[0m\u001b[32m'cost_matrices'\u001b[0m\u001b[1m]\u001b[0m`                                                          \n",
      "\u001b[34mINFO    \u001b[0m Solving `\u001b[1;36m1\u001b[0m` problems                                                                                      \n",
      "\u001b[34mINFO    \u001b[0m Solving problem BirthDeathProblem\u001b[1m[\u001b[0m\u001b[33mstage\u001b[0m=\u001b[32m'prepared'\u001b[0m, \u001b[33mshape\u001b[0m=\u001b[1m(\u001b[0m\u001b[1;36m461\u001b[0m, \u001b[1;36m201\u001b[0m\u001b[1m)\u001b[0m\u001b[1m]\u001b[0m.                                    \n"
     ]
    },
    {
     "name": "stderr",
     "output_type": "stream",
     "text": [
      "/cluster/project/treutlein/USERS/mlange/mambaforge/envs/moslin_3/lib/python3.11/site-packages/lineageot/evaluation.py:159: UserWarning: Expanded coupling not computed correctly. Check for infeasibility in row and column OT calculations. Updating the python optimal transport package may help (https://github.com/PythonOT/POT/issues/93).\n",
      "If total mass - 1 is small, this may not significantly affect downstream results.\n",
      "Total mass - 1: 1.7549609765410423e-08\n",
      "  warnings.warn((\"Expanded coupling not computed correctly. \" +\n",
      "Processing:  40%|████      | 6/15 [00:27<00:36,  4.03s/it]"
     ]
    },
    {
     "name": "stdout",
     "output_type": "stream",
     "text": [
      "\u001b[31mWARNING \u001b[0m Densifying data in `adata.obsp\u001b[1m[\u001b[0m\u001b[32m'cost_matrices'\u001b[0m\u001b[1m]\u001b[0m`                                                          \n",
      "\u001b[31mWARNING \u001b[0m Densifying data in `adata.obsp\u001b[1m[\u001b[0m\u001b[32m'cost_matrices'\u001b[0m\u001b[1m]\u001b[0m`                                                          \n",
      "\u001b[34mINFO    \u001b[0m Solving `\u001b[1;36m1\u001b[0m` problems                                                                                      \n",
      "\u001b[34mINFO    \u001b[0m Solving problem BirthDeathProblem\u001b[1m[\u001b[0m\u001b[33mstage\u001b[0m=\u001b[32m'prepared'\u001b[0m, \u001b[33mshape\u001b[0m=\u001b[1m(\u001b[0m\u001b[1;36m461\u001b[0m, \u001b[1;36m201\u001b[0m\u001b[1m)\u001b[0m\u001b[1m]\u001b[0m.                                    \n"
     ]
    },
    {
     "name": "stderr",
     "output_type": "stream",
     "text": [
      "/cluster/project/treutlein/USERS/mlange/mambaforge/envs/moslin_3/lib/python3.11/site-packages/lineageot/evaluation.py:159: UserWarning: Expanded coupling not computed correctly. Check for infeasibility in row and column OT calculations. Updating the python optimal transport package may help (https://github.com/PythonOT/POT/issues/93).\n",
      "If total mass - 1 is small, this may not significantly affect downstream results.\n",
      "Total mass - 1: 4.14438547924334e-08\n",
      "  warnings.warn((\"Expanded coupling not computed correctly. \" +\n",
      "/cluster/project/treutlein/USERS/mlange/mambaforge/envs/moslin_3/lib/python3.11/site-packages/lineageot/evaluation.py:159: UserWarning: Expanded coupling not computed correctly. Check for infeasibility in row and column OT calculations. Updating the python optimal transport package may help (https://github.com/PythonOT/POT/issues/93).\n",
      "If total mass - 1 is small, this may not significantly affect downstream results.\n",
      "Total mass - 1: 6.079790182411671e-08\n",
      "  warnings.warn((\"Expanded coupling not computed correctly. \" +\n",
      "Processing:  47%|████▋     | 7/15 [00:30<00:31,  3.91s/it]"
     ]
    },
    {
     "name": "stdout",
     "output_type": "stream",
     "text": [
      "\u001b[31mWARNING \u001b[0m Densifying data in `adata.obsp\u001b[1m[\u001b[0m\u001b[32m'cost_matrices'\u001b[0m\u001b[1m]\u001b[0m`                                                          \n",
      "\u001b[31mWARNING \u001b[0m Densifying data in `adata.obsp\u001b[1m[\u001b[0m\u001b[32m'cost_matrices'\u001b[0m\u001b[1m]\u001b[0m`                                                          \n",
      "\u001b[34mINFO    \u001b[0m Solving `\u001b[1;36m1\u001b[0m` problems                                                                                      \n",
      "\u001b[34mINFO    \u001b[0m Solving problem BirthDeathProblem\u001b[1m[\u001b[0m\u001b[33mstage\u001b[0m=\u001b[32m'prepared'\u001b[0m, \u001b[33mshape\u001b[0m=\u001b[1m(\u001b[0m\u001b[1;36m461\u001b[0m, \u001b[1;36m201\u001b[0m\u001b[1m)\u001b[0m\u001b[1m]\u001b[0m.                                    \n"
     ]
    },
    {
     "name": "stderr",
     "output_type": "stream",
     "text": [
      "/cluster/project/treutlein/USERS/mlange/mambaforge/envs/moslin_3/lib/python3.11/site-packages/lineageot/evaluation.py:159: UserWarning: Expanded coupling not computed correctly. Check for infeasibility in row and column OT calculations. Updating the python optimal transport package may help (https://github.com/PythonOT/POT/issues/93).\n",
      "If total mass - 1 is small, this may not significantly affect downstream results.\n",
      "Total mass - 1: 5.5413693411665577e-08\n",
      "  warnings.warn((\"Expanded coupling not computed correctly. \" +\n",
      "/cluster/project/treutlein/USERS/mlange/mambaforge/envs/moslin_3/lib/python3.11/site-packages/lineageot/evaluation.py:159: UserWarning: Expanded coupling not computed correctly. Check for infeasibility in row and column OT calculations. Updating the python optimal transport package may help (https://github.com/PythonOT/POT/issues/93).\n",
      "If total mass - 1 is small, this may not significantly affect downstream results.\n",
      "Total mass - 1: 5.454057827591896e-08\n",
      "  warnings.warn((\"Expanded coupling not computed correctly. \" +\n",
      "Processing:  53%|█████▎    | 8/15 [00:34<00:26,  3.84s/it]"
     ]
    },
    {
     "name": "stdout",
     "output_type": "stream",
     "text": [
      "\u001b[31mWARNING \u001b[0m Densifying data in `adata.obsp\u001b[1m[\u001b[0m\u001b[32m'cost_matrices'\u001b[0m\u001b[1m]\u001b[0m`                                                          \n",
      "\u001b[31mWARNING \u001b[0m Densifying data in `adata.obsp\u001b[1m[\u001b[0m\u001b[32m'cost_matrices'\u001b[0m\u001b[1m]\u001b[0m`                                                          \n",
      "\u001b[34mINFO    \u001b[0m Solving `\u001b[1;36m1\u001b[0m` problems                                                                                      \n",
      "\u001b[34mINFO    \u001b[0m Solving problem BirthDeathProblem\u001b[1m[\u001b[0m\u001b[33mstage\u001b[0m=\u001b[32m'prepared'\u001b[0m, \u001b[33mshape\u001b[0m=\u001b[1m(\u001b[0m\u001b[1;36m461\u001b[0m, \u001b[1;36m201\u001b[0m\u001b[1m)\u001b[0m\u001b[1m]\u001b[0m.                                    \n"
     ]
    },
    {
     "name": "stderr",
     "output_type": "stream",
     "text": [
      "/cluster/project/treutlein/USERS/mlange/mambaforge/envs/moslin_3/lib/python3.11/site-packages/lineageot/evaluation.py:159: UserWarning: Expanded coupling not computed correctly. Check for infeasibility in row and column OT calculations. Updating the python optimal transport package may help (https://github.com/PythonOT/POT/issues/93).\n",
      "If total mass - 1 is small, this may not significantly affect downstream results.\n",
      "Total mass - 1: -3.3993273973464966e-08\n",
      "  warnings.warn((\"Expanded coupling not computed correctly. \" +\n",
      "/cluster/project/treutlein/USERS/mlange/mambaforge/envs/moslin_3/lib/python3.11/site-packages/lineageot/evaluation.py:159: UserWarning: Expanded coupling not computed correctly. Check for infeasibility in row and column OT calculations. Updating the python optimal transport package may help (https://github.com/PythonOT/POT/issues/93).\n",
      "If total mass - 1 is small, this may not significantly affect downstream results.\n",
      "Total mass - 1: -1.4726538211107254e-08\n",
      "  warnings.warn((\"Expanded coupling not computed correctly. \" +\n",
      "Processing:  60%|██████    | 9/15 [00:38<00:22,  3.81s/it]"
     ]
    },
    {
     "name": "stdout",
     "output_type": "stream",
     "text": [
      "\u001b[31mWARNING \u001b[0m Densifying data in `adata.obsp\u001b[1m[\u001b[0m\u001b[32m'cost_matrices'\u001b[0m\u001b[1m]\u001b[0m`                                                          \n",
      "\u001b[31mWARNING \u001b[0m Densifying data in `adata.obsp\u001b[1m[\u001b[0m\u001b[32m'cost_matrices'\u001b[0m\u001b[1m]\u001b[0m`                                                          \n",
      "\u001b[34mINFO    \u001b[0m Solving `\u001b[1;36m1\u001b[0m` problems                                                                                      \n",
      "\u001b[34mINFO    \u001b[0m Solving problem BirthDeathProblem\u001b[1m[\u001b[0m\u001b[33mstage\u001b[0m=\u001b[32m'prepared'\u001b[0m, \u001b[33mshape\u001b[0m=\u001b[1m(\u001b[0m\u001b[1;36m461\u001b[0m, \u001b[1;36m201\u001b[0m\u001b[1m)\u001b[0m\u001b[1m]\u001b[0m.                                    \n"
     ]
    },
    {
     "name": "stderr",
     "output_type": "stream",
     "text": [
      "/cluster/project/treutlein/USERS/mlange/mambaforge/envs/moslin_3/lib/python3.11/site-packages/lineageot/evaluation.py:159: UserWarning: Expanded coupling not computed correctly. Check for infeasibility in row and column OT calculations. Updating the python optimal transport package may help (https://github.com/PythonOT/POT/issues/93).\n",
      "If total mass - 1 is small, this may not significantly affect downstream results.\n",
      "Total mass - 1: 5.168840311320366e-08\n",
      "  warnings.warn((\"Expanded coupling not computed correctly. \" +\n",
      "/cluster/project/treutlein/USERS/mlange/mambaforge/envs/moslin_3/lib/python3.11/site-packages/lineageot/evaluation.py:159: UserWarning: Expanded coupling not computed correctly. Check for infeasibility in row and column OT calculations. Updating the python optimal transport package may help (https://github.com/PythonOT/POT/issues/93).\n",
      "If total mass - 1 is small, this may not significantly affect downstream results.\n",
      "Total mass - 1: 3.605964593589306e-08\n",
      "  warnings.warn((\"Expanded coupling not computed correctly. \" +\n",
      "Processing:  67%|██████▋   | 10/15 [00:42<00:19,  3.84s/it]"
     ]
    },
    {
     "name": "stdout",
     "output_type": "stream",
     "text": [
      "\u001b[31mWARNING \u001b[0m Densifying data in `adata.obsp\u001b[1m[\u001b[0m\u001b[32m'cost_matrices'\u001b[0m\u001b[1m]\u001b[0m`                                                          \n",
      "\u001b[31mWARNING \u001b[0m Densifying data in `adata.obsp\u001b[1m[\u001b[0m\u001b[32m'cost_matrices'\u001b[0m\u001b[1m]\u001b[0m`                                                          \n",
      "\u001b[34mINFO    \u001b[0m Solving `\u001b[1;36m1\u001b[0m` problems                                                                                      \n",
      "\u001b[34mINFO    \u001b[0m Solving problem BirthDeathProblem\u001b[1m[\u001b[0m\u001b[33mstage\u001b[0m=\u001b[32m'prepared'\u001b[0m, \u001b[33mshape\u001b[0m=\u001b[1m(\u001b[0m\u001b[1;36m461\u001b[0m, \u001b[1;36m201\u001b[0m\u001b[1m)\u001b[0m\u001b[1m]\u001b[0m.                                    \n"
     ]
    },
    {
     "name": "stderr",
     "output_type": "stream",
     "text": [
      "/cluster/project/treutlein/USERS/mlange/mambaforge/envs/moslin_3/lib/python3.11/site-packages/lineageot/evaluation.py:159: UserWarning: Expanded coupling not computed correctly. Check for infeasibility in row and column OT calculations. Updating the python optimal transport package may help (https://github.com/PythonOT/POT/issues/93).\n",
      "If total mass - 1 is small, this may not significantly affect downstream results.\n",
      "Total mass - 1: -6.612390268667667e-08\n",
      "  warnings.warn((\"Expanded coupling not computed correctly. \" +\n",
      "/cluster/project/treutlein/USERS/mlange/mambaforge/envs/moslin_3/lib/python3.11/site-packages/lineageot/evaluation.py:159: UserWarning: Expanded coupling not computed correctly. Check for infeasibility in row and column OT calculations. Updating the python optimal transport package may help (https://github.com/PythonOT/POT/issues/93).\n",
      "If total mass - 1 is small, this may not significantly affect downstream results.\n",
      "Total mass - 1: -4.4674379751086235e-08\n",
      "  warnings.warn((\"Expanded coupling not computed correctly. \" +\n",
      "Processing:  73%|███████▎  | 11/15 [00:46<00:15,  3.86s/it]"
     ]
    },
    {
     "name": "stdout",
     "output_type": "stream",
     "text": [
      "\u001b[31mWARNING \u001b[0m Densifying data in `adata.obsp\u001b[1m[\u001b[0m\u001b[32m'cost_matrices'\u001b[0m\u001b[1m]\u001b[0m`                                                          \n",
      "\u001b[31mWARNING \u001b[0m Densifying data in `adata.obsp\u001b[1m[\u001b[0m\u001b[32m'cost_matrices'\u001b[0m\u001b[1m]\u001b[0m`                                                          \n",
      "\u001b[34mINFO    \u001b[0m Solving `\u001b[1;36m1\u001b[0m` problems                                                                                      \n",
      "\u001b[34mINFO    \u001b[0m Solving problem BirthDeathProblem\u001b[1m[\u001b[0m\u001b[33mstage\u001b[0m=\u001b[32m'prepared'\u001b[0m, \u001b[33mshape\u001b[0m=\u001b[1m(\u001b[0m\u001b[1;36m461\u001b[0m, \u001b[1;36m201\u001b[0m\u001b[1m)\u001b[0m\u001b[1m]\u001b[0m.                                    \n"
     ]
    },
    {
     "name": "stderr",
     "output_type": "stream",
     "text": [
      "/cluster/project/treutlein/USERS/mlange/mambaforge/envs/moslin_3/lib/python3.11/site-packages/lineageot/evaluation.py:159: UserWarning: Expanded coupling not computed correctly. Check for infeasibility in row and column OT calculations. Updating the python optimal transport package may help (https://github.com/PythonOT/POT/issues/93).\n",
      "If total mass - 1 is small, this may not significantly affect downstream results.\n",
      "Total mass - 1: 8.940696716308594e-08\n",
      "  warnings.warn((\"Expanded coupling not computed correctly. \" +\n",
      "/cluster/project/treutlein/USERS/mlange/mambaforge/envs/moslin_3/lib/python3.11/site-packages/lineageot/evaluation.py:159: UserWarning: Expanded coupling not computed correctly. Check for infeasibility in row and column OT calculations. Updating the python optimal transport package may help (https://github.com/PythonOT/POT/issues/93).\n",
      "If total mass - 1 is small, this may not significantly affect downstream results.\n",
      "Total mass - 1: 6.263144314289093e-08\n",
      "  warnings.warn((\"Expanded coupling not computed correctly. \" +\n",
      "Processing:  80%|████████  | 12/15 [00:49<00:11,  3.87s/it]"
     ]
    },
    {
     "name": "stdout",
     "output_type": "stream",
     "text": [
      "\u001b[31mWARNING \u001b[0m Densifying data in `adata.obsp\u001b[1m[\u001b[0m\u001b[32m'cost_matrices'\u001b[0m\u001b[1m]\u001b[0m`                                                          \n",
      "\u001b[31mWARNING \u001b[0m Densifying data in `adata.obsp\u001b[1m[\u001b[0m\u001b[32m'cost_matrices'\u001b[0m\u001b[1m]\u001b[0m`                                                          \n",
      "\u001b[34mINFO    \u001b[0m Solving `\u001b[1;36m1\u001b[0m` problems                                                                                      \n",
      "\u001b[34mINFO    \u001b[0m Solving problem BirthDeathProblem\u001b[1m[\u001b[0m\u001b[33mstage\u001b[0m=\u001b[32m'prepared'\u001b[0m, \u001b[33mshape\u001b[0m=\u001b[1m(\u001b[0m\u001b[1;36m461\u001b[0m, \u001b[1;36m201\u001b[0m\u001b[1m)\u001b[0m\u001b[1m]\u001b[0m.                                    \n"
     ]
    },
    {
     "name": "stderr",
     "output_type": "stream",
     "text": [
      "/cluster/project/treutlein/USERS/mlange/mambaforge/envs/moslin_3/lib/python3.11/site-packages/lineageot/evaluation.py:159: UserWarning: Expanded coupling not computed correctly. Check for infeasibility in row and column OT calculations. Updating the python optimal transport package may help (https://github.com/PythonOT/POT/issues/93).\n",
      "If total mass - 1 is small, this may not significantly affect downstream results.\n",
      "Total mass - 1: 1.100124791264534e-08\n",
      "  warnings.warn((\"Expanded coupling not computed correctly. \" +\n",
      "Processing:  87%|████████▋ | 13/15 [00:53<00:07,  3.89s/it]"
     ]
    },
    {
     "name": "stdout",
     "output_type": "stream",
     "text": [
      "\u001b[31mWARNING \u001b[0m Densifying data in `adata.obsp\u001b[1m[\u001b[0m\u001b[32m'cost_matrices'\u001b[0m\u001b[1m]\u001b[0m`                                                          \n",
      "\u001b[31mWARNING \u001b[0m Densifying data in `adata.obsp\u001b[1m[\u001b[0m\u001b[32m'cost_matrices'\u001b[0m\u001b[1m]\u001b[0m`                                                          \n",
      "\u001b[34mINFO    \u001b[0m Solving `\u001b[1;36m1\u001b[0m` problems                                                                                      \n",
      "\u001b[34mINFO    \u001b[0m Solving problem BirthDeathProblem\u001b[1m[\u001b[0m\u001b[33mstage\u001b[0m=\u001b[32m'prepared'\u001b[0m, \u001b[33mshape\u001b[0m=\u001b[1m(\u001b[0m\u001b[1;36m461\u001b[0m, \u001b[1;36m201\u001b[0m\u001b[1m)\u001b[0m\u001b[1m]\u001b[0m.                                    \n"
     ]
    },
    {
     "name": "stderr",
     "output_type": "stream",
     "text": [
      "/cluster/project/treutlein/USERS/mlange/mambaforge/envs/moslin_3/lib/python3.11/site-packages/lineageot/evaluation.py:159: UserWarning: Expanded coupling not computed correctly. Check for infeasibility in row and column OT calculations. Updating the python optimal transport package may help (https://github.com/PythonOT/POT/issues/93).\n",
      "If total mass - 1 is small, this may not significantly affect downstream results.\n",
      "Total mass - 1: -2.887099959103523e-08\n",
      "  warnings.warn((\"Expanded coupling not computed correctly. \" +\n",
      "/cluster/project/treutlein/USERS/mlange/mambaforge/envs/moslin_3/lib/python3.11/site-packages/lineageot/evaluation.py:159: UserWarning: Expanded coupling not computed correctly. Check for infeasibility in row and column OT calculations. Updating the python optimal transport package may help (https://github.com/PythonOT/POT/issues/93).\n",
      "If total mass - 1 is small, this may not significantly affect downstream results.\n",
      "Total mass - 1: -4.275352694094181e-08\n",
      "  warnings.warn((\"Expanded coupling not computed correctly. \" +\n",
      "Processing:  93%|█████████▎| 14/15 [00:57<00:03,  3.91s/it]"
     ]
    },
    {
     "name": "stdout",
     "output_type": "stream",
     "text": [
      "\u001b[31mWARNING \u001b[0m Densifying data in `adata.obsp\u001b[1m[\u001b[0m\u001b[32m'cost_matrices'\u001b[0m\u001b[1m]\u001b[0m`                                                          \n",
      "\u001b[31mWARNING \u001b[0m Densifying data in `adata.obsp\u001b[1m[\u001b[0m\u001b[32m'cost_matrices'\u001b[0m\u001b[1m]\u001b[0m`                                                          \n",
      "\u001b[34mINFO    \u001b[0m Solving `\u001b[1;36m1\u001b[0m` problems                                                                                      \n",
      "\u001b[34mINFO    \u001b[0m Solving problem BirthDeathProblem\u001b[1m[\u001b[0m\u001b[33mstage\u001b[0m=\u001b[32m'prepared'\u001b[0m, \u001b[33mshape\u001b[0m=\u001b[1m(\u001b[0m\u001b[1;36m461\u001b[0m, \u001b[1;36m201\u001b[0m\u001b[1m)\u001b[0m\u001b[1m]\u001b[0m.                                    \n"
     ]
    },
    {
     "name": "stderr",
     "output_type": "stream",
     "text": [
      "/cluster/project/treutlein/USERS/mlange/mambaforge/envs/moslin_3/lib/python3.11/site-packages/lineageot/evaluation.py:159: UserWarning: Expanded coupling not computed correctly. Check for infeasibility in row and column OT calculations. Updating the python optimal transport package may help (https://github.com/PythonOT/POT/issues/93).\n",
      "If total mass - 1 is small, this may not significantly affect downstream results.\n",
      "Total mass - 1: 3.559398464858532e-08\n",
      "  warnings.warn((\"Expanded coupling not computed correctly. \" +\n",
      "Processing: 100%|██████████| 15/15 [01:01<00:00,  4.12s/it]\n"
     ]
    }
   ],
   "source": [
    "# initialize a dict to store the results\n",
    "results = {}\n",
    "i = 0\n",
    "\n",
    "for timepoint_pair in timepoint_pairs:\n",
    "    early_tp, late_tp = timepoint_pair[0], timepoint_pair[1]\n",
    "\n",
    "    # extract hyperparameters from gridsearch results\n",
    "    params = hyper_df.loc[hyper_df[\"tp\"] == f\"{early_tp}-{late_tp}\"]\n",
    "    alpha = params[\"alpha\"].values[0]\n",
    "    epsilon = params[\"epsilon\"].values[0]\n",
    "    scale_cost = params[\"scale_cost\"].values[0]\n",
    "    max_inner_iterations = params[\"max_inner_iterations\"].values[0]\n",
    "\n",
    "    print(f\"{early_tp=}, {late_tp=}, {epsilon=}, {alpha=} {scale_cost=} {max_inner_iterations=}\")\n",
    "\n",
    "    # compute the ground-truth coupling and cost-matrices\n",
    "    gt_coupling, early_dist, late_dist, bdata = mu.tl.prepare_moscot(\n",
    "        adata=adata,\n",
    "        early_time=early_tp,\n",
    "        late_time=late_tp,\n",
    "        reorder_clusters=True,\n",
    "    )\n",
    "\n",
    "    # write marginals to bdata\n",
    "    bdata.obs[\"marginals\"] = np.r_[gt_coupling.early_marginal, gt_coupling.late_marginal]\n",
    "\n",
    "    # loop over cost-matrix perturbation percentages\n",
    "    for x_percent in tqdm(np.linspace(0, 100, num=15), desc=\"Processing\"):\n",
    "        # perturb cost matrix elements\n",
    "        np.random.seed(random_state)\n",
    "        early_dist_perturbed, percent_perturbed_early = mu.ul.permute_symmetric_matrix_elements(\n",
    "            early_dist, x_percent=x_percent\n",
    "        )\n",
    "        late_dist_perturbed, percent_perturbed_late = mu.ul.permute_symmetric_matrix_elements(\n",
    "            late_dist, x_percent=x_percent\n",
    "        )\n",
    "\n",
    "        # write cost matrices to bdata\n",
    "        bdata.obsp[\"cost_matrices\"] = sp.bmat([[early_dist_perturbed, None], [None, late_dist_perturbed]], format=\"csr\")\n",
    "\n",
    "        # initialize a lineage problem\n",
    "        prob = mt.problems.time.LineageProblem(bdata)\n",
    "\n",
    "        # prepare the lineage problem\n",
    "        prob = prob.prepare(\n",
    "            time_key=TIME_KEY,\n",
    "            joint_attr={\"attr\": \"obsm\", \"key\": \"X_pca\"},\n",
    "            lineage_attr={\"attr\": \"obsp\", \"key\": \"cost_matrices\", \"cost\": \"custom\"},\n",
    "            a=\"marginals\",\n",
    "            b=\"marginals\",\n",
    "        )\n",
    "\n",
    "        # solve the lineage problem\n",
    "        prob = prob.solve(\n",
    "            epsilon=epsilon,\n",
    "            alpha=alpha,\n",
    "            tau_a=tau_a,\n",
    "            tau_b=1.0,\n",
    "            scale_cost=scale_cost,\n",
    "            store_inner_errors=False,\n",
    "            max_iterations=50,\n",
    "            min_iterations=5,\n",
    "            linear_solver_kwargs={\"max_iterations\": max_inner_iterations},\n",
    "            threshold=1e-3,\n",
    "        )\n",
    "\n",
    "        # quantify predictive performance by computing the mearn error\n",
    "        pred = np.asarray(prob.solutions[early_tp, late_tp].transport_matrix)\n",
    "\n",
    "        early_cost = gt_coupling.cost(pred, late=False)\n",
    "        late_cost = gt_coupling.cost(pred, late=True)\n",
    "        mean_error = (early_cost + late_cost) / 2\n",
    "\n",
    "        # write to dict\n",
    "        results[i] = {\n",
    "            \"susbset\": LINEAGE_INFO,\n",
    "            \"target_percent_perturbed\": x_percent,\n",
    "            \"timepoint_pair\": f\"{early_tp}-{late_tp}\",\n",
    "            \"percent_perturbed_early\": percent_perturbed_early,\n",
    "            \"percent_perturbed_late\": percent_perturbed_late,\n",
    "            \"percent_perturbed_average\": (percent_perturbed_early + percent_perturbed_late) / 2,\n",
    "            \"mean_error\": mean_error,\n",
    "        }\n",
    "\n",
    "        # increase the iteration counter\n",
    "        i += 1"
   ]
  },
  {
   "cell_type": "markdown",
   "id": "9e17e8e5-4855-4832-bc67-64cb96dbf485",
   "metadata": {},
   "source": [
    "### Visualize results"
   ]
  },
  {
   "cell_type": "markdown",
   "id": "b84e0886-1496-42b5-b532-3cd9e1d5b667",
   "metadata": {},
   "source": [
    "Transform this into a DataFrame"
   ]
  },
  {
   "cell_type": "code",
   "execution_count": 29,
   "id": "1ad0f64a-a5f7-4102-a441-accb6250d7c4",
   "metadata": {},
   "outputs": [
    {
     "data": {
      "text/html": [
       "<div>\n",
       "<style scoped>\n",
       "    .dataframe tbody tr th:only-of-type {\n",
       "        vertical-align: middle;\n",
       "    }\n",
       "\n",
       "    .dataframe tbody tr th {\n",
       "        vertical-align: top;\n",
       "    }\n",
       "\n",
       "    .dataframe thead th {\n",
       "        text-align: right;\n",
       "    }\n",
       "</style>\n",
       "<table border=\"1\" class=\"dataframe\">\n",
       "  <thead>\n",
       "    <tr style=\"text-align: right;\">\n",
       "      <th></th>\n",
       "      <th>susbset</th>\n",
       "      <th>target_percent_perturbed</th>\n",
       "      <th>timepoint_pair</th>\n",
       "      <th>percent_perturbed_early</th>\n",
       "      <th>percent_perturbed_late</th>\n",
       "      <th>percent_perturbed_average</th>\n",
       "      <th>mean_error</th>\n",
       "    </tr>\n",
       "  </thead>\n",
       "  <tbody>\n",
       "    <tr>\n",
       "      <th>0</th>\n",
       "      <td>complete</td>\n",
       "      <td>0.0</td>\n",
       "      <td>170-210</td>\n",
       "      <td>0.0</td>\n",
       "      <td>0.0</td>\n",
       "      <td>0.0</td>\n",
       "      <td>0.127273</td>\n",
       "    </tr>\n",
       "    <tr>\n",
       "      <th>1</th>\n",
       "      <td>complete</td>\n",
       "      <td>7.142857</td>\n",
       "      <td>170-210</td>\n",
       "      <td>5.395143</td>\n",
       "      <td>5.420176</td>\n",
       "      <td>5.40766</td>\n",
       "      <td>0.132442</td>\n",
       "    </tr>\n",
       "    <tr>\n",
       "      <th>2</th>\n",
       "      <td>complete</td>\n",
       "      <td>14.285714</td>\n",
       "      <td>170-210</td>\n",
       "      <td>10.675497</td>\n",
       "      <td>10.820453</td>\n",
       "      <td>10.747975</td>\n",
       "      <td>0.138387</td>\n",
       "    </tr>\n",
       "    <tr>\n",
       "      <th>3</th>\n",
       "      <td>complete</td>\n",
       "      <td>21.428571</td>\n",
       "      <td>170-210</td>\n",
       "      <td>16.1766</td>\n",
       "      <td>16.249156</td>\n",
       "      <td>16.212878</td>\n",
       "      <td>0.148621</td>\n",
       "    </tr>\n",
       "    <tr>\n",
       "      <th>4</th>\n",
       "      <td>complete</td>\n",
       "      <td>28.571429</td>\n",
       "      <td>170-210</td>\n",
       "      <td>22.110375</td>\n",
       "      <td>21.557048</td>\n",
       "      <td>21.833712</td>\n",
       "      <td>0.153995</td>\n",
       "    </tr>\n",
       "    <tr>\n",
       "      <th>5</th>\n",
       "      <td>complete</td>\n",
       "      <td>35.714286</td>\n",
       "      <td>170-210</td>\n",
       "      <td>26.887417</td>\n",
       "      <td>27.025548</td>\n",
       "      <td>26.956483</td>\n",
       "      <td>0.178914</td>\n",
       "    </tr>\n",
       "    <tr>\n",
       "      <th>6</th>\n",
       "      <td>complete</td>\n",
       "      <td>42.857143</td>\n",
       "      <td>170-210</td>\n",
       "      <td>33.165563</td>\n",
       "      <td>32.516079</td>\n",
       "      <td>32.840821</td>\n",
       "      <td>0.21015</td>\n",
       "    </tr>\n",
       "    <tr>\n",
       "      <th>7</th>\n",
       "      <td>complete</td>\n",
       "      <td>50.0</td>\n",
       "      <td>170-210</td>\n",
       "      <td>38.322296</td>\n",
       "      <td>37.870163</td>\n",
       "      <td>38.096229</td>\n",
       "      <td>0.236915</td>\n",
       "    </tr>\n",
       "    <tr>\n",
       "      <th>8</th>\n",
       "      <td>complete</td>\n",
       "      <td>57.142857</td>\n",
       "      <td>170-210</td>\n",
       "      <td>43.682119</td>\n",
       "      <td>43.260491</td>\n",
       "      <td>43.471305</td>\n",
       "      <td>0.277318</td>\n",
       "    </tr>\n",
       "    <tr>\n",
       "      <th>9</th>\n",
       "      <td>complete</td>\n",
       "      <td>64.285714</td>\n",
       "      <td>170-210</td>\n",
       "      <td>49.236203</td>\n",
       "      <td>48.714067</td>\n",
       "      <td>48.975135</td>\n",
       "      <td>0.335614</td>\n",
       "    </tr>\n",
       "    <tr>\n",
       "      <th>10</th>\n",
       "      <td>complete</td>\n",
       "      <td>71.428571</td>\n",
       "      <td>170-210</td>\n",
       "      <td>54.975717</td>\n",
       "      <td>54.00064</td>\n",
       "      <td>54.488179</td>\n",
       "      <td>0.452007</td>\n",
       "    </tr>\n",
       "    <tr>\n",
       "      <th>11</th>\n",
       "      <td>complete</td>\n",
       "      <td>78.571429</td>\n",
       "      <td>170-210</td>\n",
       "      <td>59.461369</td>\n",
       "      <td>59.614114</td>\n",
       "      <td>59.537741</td>\n",
       "      <td>0.591189</td>\n",
       "    </tr>\n",
       "    <tr>\n",
       "      <th>12</th>\n",
       "      <td>complete</td>\n",
       "      <td>85.714286</td>\n",
       "      <td>170-210</td>\n",
       "      <td>65.395143</td>\n",
       "      <td>65.007995</td>\n",
       "      <td>65.201569</td>\n",
       "      <td>0.679062</td>\n",
       "    </tr>\n",
       "    <tr>\n",
       "      <th>13</th>\n",
       "      <td>complete</td>\n",
       "      <td>92.857143</td>\n",
       "      <td>170-210</td>\n",
       "      <td>70.445916</td>\n",
       "      <td>70.209999</td>\n",
       "      <td>70.327958</td>\n",
       "      <td>0.729477</td>\n",
       "    </tr>\n",
       "    <tr>\n",
       "      <th>14</th>\n",
       "      <td>complete</td>\n",
       "      <td>100.0</td>\n",
       "      <td>170-210</td>\n",
       "      <td>75.88521</td>\n",
       "      <td>75.697687</td>\n",
       "      <td>75.791448</td>\n",
       "      <td>0.752077</td>\n",
       "    </tr>\n",
       "    <tr>\n",
       "      <th>15</th>\n",
       "      <td>complete</td>\n",
       "      <td>0.0</td>\n",
       "      <td>450-510</td>\n",
       "      <td>0.0</td>\n",
       "      <td>0.0</td>\n",
       "      <td>0.0</td>\n",
       "      <td>0.062801</td>\n",
       "    </tr>\n",
       "    <tr>\n",
       "      <th>16</th>\n",
       "      <td>complete</td>\n",
       "      <td>7.142857</td>\n",
       "      <td>450-510</td>\n",
       "      <td>5.3947</td>\n",
       "      <td>5.144279</td>\n",
       "      <td>5.269489</td>\n",
       "      <td>0.067285</td>\n",
       "    </tr>\n",
       "    <tr>\n",
       "      <th>17</th>\n",
       "      <td>complete</td>\n",
       "      <td>14.285714</td>\n",
       "      <td>450-510</td>\n",
       "      <td>10.7413</td>\n",
       "      <td>10.278607</td>\n",
       "      <td>10.509953</td>\n",
       "      <td>0.075283</td>\n",
       "    </tr>\n",
       "    <tr>\n",
       "      <th>18</th>\n",
       "      <td>complete</td>\n",
       "      <td>21.428571</td>\n",
       "      <td>450-510</td>\n",
       "      <td>16.135999</td>\n",
       "      <td>15.029851</td>\n",
       "      <td>15.582925</td>\n",
       "      <td>0.08901</td>\n",
       "    </tr>\n",
       "    <tr>\n",
       "      <th>19</th>\n",
       "      <td>complete</td>\n",
       "      <td>28.571429</td>\n",
       "      <td>450-510</td>\n",
       "      <td>21.455249</td>\n",
       "      <td>20.258706</td>\n",
       "      <td>20.856977</td>\n",
       "      <td>0.113893</td>\n",
       "    </tr>\n",
       "    <tr>\n",
       "      <th>20</th>\n",
       "      <td>complete</td>\n",
       "      <td>35.714286</td>\n",
       "      <td>450-510</td>\n",
       "      <td>26.922569</td>\n",
       "      <td>25.402985</td>\n",
       "      <td>26.162777</td>\n",
       "      <td>0.141075</td>\n",
       "    </tr>\n",
       "    <tr>\n",
       "      <th>21</th>\n",
       "      <td>complete</td>\n",
       "      <td>42.857143</td>\n",
       "      <td>450-510</td>\n",
       "      <td>32.166368</td>\n",
       "      <td>30.517413</td>\n",
       "      <td>31.34189</td>\n",
       "      <td>0.179059</td>\n",
       "    </tr>\n",
       "    <tr>\n",
       "      <th>22</th>\n",
       "      <td>complete</td>\n",
       "      <td>50.0</td>\n",
       "      <td>450-510</td>\n",
       "      <td>37.424314</td>\n",
       "      <td>36.368159</td>\n",
       "      <td>36.896237</td>\n",
       "      <td>0.230233</td>\n",
       "    </tr>\n",
       "    <tr>\n",
       "      <th>23</th>\n",
       "      <td>complete</td>\n",
       "      <td>57.142857</td>\n",
       "      <td>450-510</td>\n",
       "      <td>42.86617</td>\n",
       "      <td>41.044776</td>\n",
       "      <td>41.955473</td>\n",
       "      <td>0.29628</td>\n",
       "    </tr>\n",
       "    <tr>\n",
       "      <th>24</th>\n",
       "      <td>complete</td>\n",
       "      <td>64.285714</td>\n",
       "      <td>450-510</td>\n",
       "      <td>48.289163</td>\n",
       "      <td>46.268657</td>\n",
       "      <td>47.27891</td>\n",
       "      <td>0.362542</td>\n",
       "    </tr>\n",
       "    <tr>\n",
       "      <th>25</th>\n",
       "      <td>complete</td>\n",
       "      <td>71.428571</td>\n",
       "      <td>450-510</td>\n",
       "      <td>53.711214</td>\n",
       "      <td>51.38806</td>\n",
       "      <td>52.549637</td>\n",
       "      <td>0.425876</td>\n",
       "    </tr>\n",
       "    <tr>\n",
       "      <th>26</th>\n",
       "      <td>complete</td>\n",
       "      <td>78.571429</td>\n",
       "      <td>450-510</td>\n",
       "      <td>58.975762</td>\n",
       "      <td>55.920398</td>\n",
       "      <td>57.44808</td>\n",
       "      <td>0.467314</td>\n",
       "    </tr>\n",
       "    <tr>\n",
       "      <th>27</th>\n",
       "      <td>complete</td>\n",
       "      <td>85.714286</td>\n",
       "      <td>450-510</td>\n",
       "      <td>64.292181</td>\n",
       "      <td>61.179104</td>\n",
       "      <td>62.735643</td>\n",
       "      <td>0.500394</td>\n",
       "    </tr>\n",
       "    <tr>\n",
       "      <th>28</th>\n",
       "      <td>complete</td>\n",
       "      <td>92.857143</td>\n",
       "      <td>450-510</td>\n",
       "      <td>69.654815</td>\n",
       "      <td>67.064677</td>\n",
       "      <td>68.359746</td>\n",
       "      <td>0.524004</td>\n",
       "    </tr>\n",
       "    <tr>\n",
       "      <th>29</th>\n",
       "      <td>complete</td>\n",
       "      <td>100.0</td>\n",
       "      <td>450-510</td>\n",
       "      <td>75.074979</td>\n",
       "      <td>71.751244</td>\n",
       "      <td>73.413111</td>\n",
       "      <td>0.535006</td>\n",
       "    </tr>\n",
       "  </tbody>\n",
       "</table>\n",
       "</div>"
      ],
      "text/plain": [
       "     susbset target_percent_perturbed timepoint_pair percent_perturbed_early  \\\n",
       "0   complete                      0.0        170-210                     0.0   \n",
       "1   complete                 7.142857        170-210                5.395143   \n",
       "2   complete                14.285714        170-210               10.675497   \n",
       "3   complete                21.428571        170-210                 16.1766   \n",
       "4   complete                28.571429        170-210               22.110375   \n",
       "5   complete                35.714286        170-210               26.887417   \n",
       "6   complete                42.857143        170-210               33.165563   \n",
       "7   complete                     50.0        170-210               38.322296   \n",
       "8   complete                57.142857        170-210               43.682119   \n",
       "9   complete                64.285714        170-210               49.236203   \n",
       "10  complete                71.428571        170-210               54.975717   \n",
       "11  complete                78.571429        170-210               59.461369   \n",
       "12  complete                85.714286        170-210               65.395143   \n",
       "13  complete                92.857143        170-210               70.445916   \n",
       "14  complete                    100.0        170-210                75.88521   \n",
       "15  complete                      0.0        450-510                     0.0   \n",
       "16  complete                 7.142857        450-510                  5.3947   \n",
       "17  complete                14.285714        450-510                 10.7413   \n",
       "18  complete                21.428571        450-510               16.135999   \n",
       "19  complete                28.571429        450-510               21.455249   \n",
       "20  complete                35.714286        450-510               26.922569   \n",
       "21  complete                42.857143        450-510               32.166368   \n",
       "22  complete                     50.0        450-510               37.424314   \n",
       "23  complete                57.142857        450-510                42.86617   \n",
       "24  complete                64.285714        450-510               48.289163   \n",
       "25  complete                71.428571        450-510               53.711214   \n",
       "26  complete                78.571429        450-510               58.975762   \n",
       "27  complete                85.714286        450-510               64.292181   \n",
       "28  complete                92.857143        450-510               69.654815   \n",
       "29  complete                    100.0        450-510               75.074979   \n",
       "\n",
       "   percent_perturbed_late percent_perturbed_average mean_error  \n",
       "0                     0.0                       0.0   0.127273  \n",
       "1                5.420176                   5.40766   0.132442  \n",
       "2               10.820453                 10.747975   0.138387  \n",
       "3               16.249156                 16.212878   0.148621  \n",
       "4               21.557048                 21.833712   0.153995  \n",
       "5               27.025548                 26.956483   0.178914  \n",
       "6               32.516079                 32.840821    0.21015  \n",
       "7               37.870163                 38.096229   0.236915  \n",
       "8               43.260491                 43.471305   0.277318  \n",
       "9               48.714067                 48.975135   0.335614  \n",
       "10               54.00064                 54.488179   0.452007  \n",
       "11              59.614114                 59.537741   0.591189  \n",
       "12              65.007995                 65.201569   0.679062  \n",
       "13              70.209999                 70.327958   0.729477  \n",
       "14              75.697687                 75.791448   0.752077  \n",
       "15                    0.0                       0.0   0.062801  \n",
       "16               5.144279                  5.269489   0.067285  \n",
       "17              10.278607                 10.509953   0.075283  \n",
       "18              15.029851                 15.582925    0.08901  \n",
       "19              20.258706                 20.856977   0.113893  \n",
       "20              25.402985                 26.162777   0.141075  \n",
       "21              30.517413                  31.34189   0.179059  \n",
       "22              36.368159                 36.896237   0.230233  \n",
       "23              41.044776                 41.955473    0.29628  \n",
       "24              46.268657                  47.27891   0.362542  \n",
       "25               51.38806                 52.549637   0.425876  \n",
       "26              55.920398                  57.44808   0.467314  \n",
       "27              61.179104                 62.735643   0.500394  \n",
       "28              67.064677                 68.359746   0.524004  \n",
       "29              71.751244                 73.413111   0.535006  "
      ]
     },
     "execution_count": 29,
     "metadata": {},
     "output_type": "execute_result"
    }
   ],
   "source": [
    "results_df = pd.DataFrame(results).T\n",
    "results_df"
   ]
  },
  {
   "cell_type": "markdown",
   "id": "994365a4-1cb3-4e0f-9d10-9479f57cf73d",
   "metadata": {},
   "source": [
    "Let's visualize the mean error as a function of the percentage of perturbed elements. "
   ]
  },
  {
   "cell_type": "code",
   "execution_count": 30,
   "id": "b10b08b3-cc4f-4beb-9498-56d5e39650b5",
   "metadata": {},
   "outputs": [
    {
     "data": {
      "text/plain": [
       "{'170-210': '#33006d',\n",
       " '210-270': '#7d05dc',\n",
       " '270-330': '#a4146e',\n",
       " '330-390': '#c23600',\n",
       " '390-450': '#dc7000',\n",
       " '450-510': '#f4ca00'}"
      ]
     },
     "execution_count": 30,
     "metadata": {},
     "output_type": "execute_result"
    }
   ],
   "source": [
    "color_dict = {tp: color for tp, color in zip(adata.obs[TIME_KEY].cat.categories, adata.uns[f\"{TIME_KEY}_colors\"])}\n",
    "color_map = {\n",
    "    f\"{tp_early}-{tp_late}\": average_hex_color(color_dict[tp_early], color_dict[tp_late])\n",
    "    for tp_early, tp_late in zip(color_dict.keys(), list(color_dict.keys())[1:])\n",
    "}\n",
    "color_map"
   ]
  },
  {
   "cell_type": "code",
   "execution_count": 31,
   "id": "cad52407-6cdf-48c7-9bd6-0fd6b09d839a",
   "metadata": {},
   "outputs": [
    {
     "data": {
      "image/png": "[encoded data removed]",
      "text/plain": [
       "<Figure size 640x400 with 1 Axes>"
      ]
     },
     "metadata": {
      "image/png": {
       "height": 366,
       "width": 600
      }
     },
     "output_type": "display_data"
    }
   ],
   "source": [
    "# Set the figure size to make the plot wider, e.g., 10 inches wide by 6 inches tall\n",
    "plt.figure(figsize=(8, 5))\n",
    "\n",
    "sns.scatterplot(data=results_df, x=\"percent_perturbed_average\", y=\"mean_error\", hue=\"timepoint_pair\", palette=color_map)\n",
    "\n",
    "plt.title(f\"subset: {LINEAGE_INFO}\")\n",
    "plt.xlabel(\"perturbed (percent)\")\n",
    "plt.ylabel(\"mean error\")\n",
    "plt.ylim(0, 1)\n",
    "\n",
    "# Move the legend outside the plotting area\n",
    "plt.legend(title=\"timepoints\", bbox_to_anchor=(1.05, 1), loc=\"upper left\")\n",
    "\n",
    "plt.tight_layout()  # Adjust the layout to make room for the legend\n",
    "plt.show()"
   ]
  },
  {
   "cell_type": "code",
   "execution_count": null,
   "id": "5e6f59d7-3371-4f67-a85f-787830665bb4",
   "metadata": {},
   "outputs": [],
   "source": []
  }
 ],
 "metadata": {
  "kernelspec": {
   "display_name": "Python (moslin_3)",
   "language": "python",
   "name": "moslin_3"
  },
  "language_info": {
   "codemirror_mode": {
    "name": "ipython",
    "version": 3
   },
   "file_extension": ".py",
   "mimetype": "text/x-python",
   "name": "python",
   "nbconvert_exporter": "python",
   "pygments_lexer": "ipython3",
   "version": "3.11.9"
  }
 },
 "nbformat": 4,
 "nbformat_minor": 5
}
