{
 "cells": [
  {
   "cell_type": "markdown",
   "id": "48a8111d-6ec7-4309-aaf1-c9d43ba6e8e1",
   "metadata": {},
   "source": [
    "# Analyze`TedSim` grid-search results w/ subsampling \n",
    "\n",
    "Application of `moslin` on `TedSim` simulations [[PHX-22]](https://doi.org/10.1093/nar/gkac235).\n"
   ]
  },
  {
   "cell_type": "markdown",
   "id": "5a1a4d54-5425-4b05-86f5-4d9705c5f956",
   "metadata": {},
   "source": [
    "# Preliminaries\n",
    "\n",
    "## Import packages"
   ]
  },
  {
   "cell_type": "code",
   "execution_count": 1,
   "id": "3c5fd5ce-599e-4dba-85df-73e922bf39a8",
   "metadata": {},
   "outputs": [],
   "source": [
    "%load_ext autoreload\n",
    "%autoreload 2"
   ]
  },
  {
   "cell_type": "code",
   "execution_count": 2,
   "id": "9da07a6d-5bfc-44df-843f-bbc22e7b32e0",
   "metadata": {
    "tags": []
   },
   "outputs": [],
   "source": [
    "import sys\n",
    "import numpy as np\n",
    "import scanpy as sc\n",
    "import pandas as pd\n",
    "import seaborn as sns\n",
    "import matplotlib.pyplot as plt\n",
    "\n",
    "\n",
    "import utils_run\n",
    "from utils_analysis import state_tree_draw, tree_draw, plot_cost, node_colors\n",
    "\n",
    "import glob\n",
    "\n",
    "import moscot as mc"
   ]
  },
  {
   "cell_type": "code",
   "execution_count": 3,
   "id": "0b296712-b557-473a-80f5-33d13c59d6de",
   "metadata": {
    "tags": []
   },
   "outputs": [
    {
     "data": {
      "text/plain": [
       "'0.3.4.dev158+gee31deb'"
      ]
     },
     "execution_count": 3,
     "metadata": {},
     "output_type": "execute_result"
    }
   ],
   "source": [
    "mc.__version__"
   ]
  },
  {
   "cell_type": "code",
   "execution_count": 4,
   "id": "32b57c3d-339a-4481-a5d2-f08e4364e554",
   "metadata": {
    "tags": []
   },
   "outputs": [],
   "source": [
    "import warnings\n",
    "\n",
    "warnings.simplefilter(\"ignore\", UserWarning)\n",
    "warnings.simplefilter(\"ignore\", FutureWarning)"
   ]
  },
  {
   "cell_type": "markdown",
   "id": "202ffd60-3601-4a47-b063-f486f3bdc011",
   "metadata": {},
   "source": [
    "## Dependencies\n",
    "\n",
    "Run `data_generation` and `experiments` according to the instructions in the README"
   ]
  },
  {
   "cell_type": "markdown",
   "id": "af64fb37-3798-4cc2-97c7-7aef23444db6",
   "metadata": {},
   "source": [
    "## Set up paths\n",
    "\n",
    "Define the paths for data and figures"
   ]
  },
  {
   "cell_type": "code",
   "execution_count": 5,
   "id": "c059113b-8d9e-457c-a9ac-4d4e24400a3e",
   "metadata": {
    "tags": []
   },
   "outputs": [],
   "source": [
    "sys.path.insert(\n",
    "    0, \"../../../\"\n",
    ")  # this depends on the notebook depth and must be adapted per notebook\n",
    "\n",
    "from paths import DATA_DIR, FIG_DIR\n",
    "\n",
    "FIG_DIR = FIG_DIR / \"simulations/pan_tedsim\"\n",
    "DATA_DIR = DATA_DIR / \"simulations/pan_tedsim\"\n",
    "LOG_DIR = DATA_DIR / \"simulations/pan_tedsim\""
   ]
  },
  {
   "cell_type": "markdown",
   "id": "0fd9a2e6-7d07-4d52-9548-6142ce558d75",
   "metadata": {},
   "source": [
    "### Create data grid"
   ]
  },
  {
   "cell_type": "code",
   "execution_count": 6,
   "id": "3f0537c5-f4fa-43f3-b754-4ad5477edb7b",
   "metadata": {},
   "outputs": [],
   "source": [
    "seeds = [36489, 59707, 38128, 25295, 49142, 12102, 30139, 4698, 50349, 23860]\n",
    "ssrs = [0.2]\n",
    "depth = 8\n",
    "subsamples = [0.4, 0.6, 0.8, 0.9]\n",
    "\n",
    "config = []\n",
    "for seed in seeds:\n",
    "    for ssr in ssrs:\n",
    "        for subsample in subsamples:\n",
    "            config.append([seed, ssr, depth, subsample])\n",
    "\n",
    "df = pd.DataFrame(config, columns=[\"seed\", \"ssr\", \"depth\", \"subsample\"])\n",
    "df.index.name='ArrayTaskID'\n",
    "df.to_csv(LOG_DIR / \"grid_config_subsample.txt\", sep=\"\\t\")"
   ]
  },
  {
   "cell_type": "markdown",
   "id": "9f9ef24b-4b6f-4b9a-a1b0-ec2d534427e5",
   "metadata": {},
   "source": [
    "## Set global parameters"
   ]
  },
  {
   "cell_type": "code",
   "execution_count": 7,
   "id": "06d626f2-cf32-4b18-94b1-6f496336cd9b",
   "metadata": {
    "tags": []
   },
   "outputs": [],
   "source": [
    "import mplscience\n",
    "\n",
    "mplscience.set_style()\n",
    "plt.rcParams[\"legend.scatterpoints\"] = 1\n",
    "plt.rcParams[\"figure.dpi\"] = 300"
   ]
  },
  {
   "cell_type": "markdown",
   "id": "fb071d88-f7b0-463d-8ea1-3bbe0dae84ba",
   "metadata": {},
   "source": [
    "# Import grid results"
   ]
  },
  {
   "cell_type": "code",
   "execution_count": 8,
   "id": "e3594d4e-fb62-424e-a862-56cc7c68d8d9",
   "metadata": {},
   "outputs": [],
   "source": [
    "filenames = glob.glob(\"/cs/labs/mornitzan/zoe.piran/research/projects/moslin_analysis_2/data/simulations/pan_tedsim_rev/output_subsample/*.csv\")\n",
    "filenames_res = [file for file in filenames if \"cluster\" not in file]\n",
    "filenames_clust = [file for file in filenames if \"cluster\" in file]\n",
    "filenames_clust = [file for file in filenames_clust if \"gt\" not in file]\n",
    "filenames_clust_gt = [file for file in filenames_clust if \"gt\" in file]"
   ]
  },
  {
   "cell_type": "code",
   "execution_count": 9,
   "id": "e7248b4a-04f1-41c9-b34d-be8604ce46d8",
   "metadata": {},
   "outputs": [],
   "source": [
    "res = None\n",
    "for file in filenames_res:\n",
    "    dfc = pd.read_csv(file)\n",
    "    dfc[\"subsample\"] = float(file.split(\"_\")[-1].strip(\".csv\"))\n",
    "    dfc[\"pct_removed\"] = 1-dfc[\"subsample\"]\n",
    "    if \"gt\" in file:\n",
    "        continue\n",
    "    if res is None:\n",
    "        res = dfc\n",
    "    else:\n",
    "        res = pd.concat([res, dfc], ignore_index=True)"
   ]
  },
  {
   "cell_type": "code",
   "execution_count": 10,
   "id": "ecd60da1-830a-44cf-9fdf-9d9269dbbc2a",
   "metadata": {},
   "outputs": [],
   "source": [
    "res[\"mean_cost\"] = (res[\"early_cost\"] + res[\"late_cost\"]) / 2\n",
    "res = res.drop(columns=\"Unnamed: 0\")"
   ]
  },
  {
   "cell_type": "code",
   "execution_count": 11,
   "id": "deeda565-1147-49b8-9eaa-6e74aa61497e",
   "metadata": {},
   "outputs": [
    {
     "data": {
      "text/plain": [
       "array(['moslin', 'CoSpar', 'LineageOT'], dtype=object)"
      ]
     },
     "execution_count": 11,
     "metadata": {},
     "output_type": "execute_result"
    }
   ],
   "source": [
    "res[\"kind\"].unique()"
   ]
  },
  {
   "cell_type": "code",
   "execution_count": 12,
   "id": "43454b8d-8676-499a-bc5b-95c08fca12f8",
   "metadata": {},
   "outputs": [],
   "source": [
    "for df in [res]:\n",
    "    df.loc[df[\"alpha\"] == 0.0, \"kind\"] = \"OT\"\n",
    "    df.loc[df[\"alpha\"] == 1.0, \"kind\"] = \"GW\""
   ]
  },
  {
   "cell_type": "code",
   "execution_count": 13,
   "id": "1b5700d5-8cac-4467-8546-74c3bd19efc0",
   "metadata": {},
   "outputs": [],
   "source": [
    "res.loc[res[\"tree_type\"] == \"fitted-tree\",\"kind\"] = res[\"kind\"] + \" (fitted-tree)\"\n",
    "res.loc[res[\"tree_type\"] == \"ground-truth\",\"kind\"] =  res[\"kind\"] + \" (ground-truth)\"\n",
    "res.loc[res[\"tree_type\"] == \"state-only\",\"kind\"] = res[\"kind\"] + \" (state-only)\""
   ]
  },
  {
   "cell_type": "code",
   "execution_count": 14,
   "id": "3a2bc15c-bbae-495c-a976-a0a51e3d038b",
   "metadata": {},
   "outputs": [],
   "source": [
    "idx = (\n",
    "    res.groupby(\n",
    "        [\"p_a\", \"ssr\", \"ss\", \"kind\", \"data_seed\", \"subsample\"]\n",
    "    )[\"mean_cost\"].transform(min)\n",
    "    == res[\"mean_cost\"]\n",
    ")\n",
    "df_min = res[idx]"
   ]
  },
  {
   "cell_type": "code",
   "execution_count": 15,
   "id": "f0462ed2-de6e-4f67-8bdf-8094dc6cb870",
   "metadata": {},
   "outputs": [
    {
     "data": {
      "text/html": [
       "<div>\n",
       "<style scoped>\n",
       "    .dataframe tbody tr th:only-of-type {\n",
       "        vertical-align: middle;\n",
       "    }\n",
       "\n",
       "    .dataframe tbody tr th {\n",
       "        vertical-align: top;\n",
       "    }\n",
       "\n",
       "    .dataframe thead th {\n",
       "        text-align: right;\n",
       "    }\n",
       "</style>\n",
       "<table border=\"1\" class=\"dataframe\">\n",
       "  <thead>\n",
       "    <tr style=\"text-align: right;\">\n",
       "      <th></th>\n",
       "      <th>p_a</th>\n",
       "      <th>ss</th>\n",
       "      <th>ssr</th>\n",
       "      <th>data_seed</th>\n",
       "      <th>alpha</th>\n",
       "      <th>epsilon</th>\n",
       "      <th>scale_cost</th>\n",
       "      <th>depth</th>\n",
       "      <th>seed</th>\n",
       "      <th>kind</th>\n",
       "      <th>converged</th>\n",
       "      <th>early_cost</th>\n",
       "      <th>late_cost</th>\n",
       "      <th>tree_type</th>\n",
       "      <th>subsample</th>\n",
       "      <th>pct_removed</th>\n",
       "      <th>mean_cost</th>\n",
       "    </tr>\n",
       "  </thead>\n",
       "  <tbody>\n",
       "    <tr>\n",
       "      <th>24</th>\n",
       "      <td>0.4</td>\n",
       "      <td>0.4</td>\n",
       "      <td>0.3</td>\n",
       "      <td>38128</td>\n",
       "      <td>0.990</td>\n",
       "      <td>0.0001</td>\n",
       "      <td>mean</td>\n",
       "      <td>8</td>\n",
       "      <td>1427845748</td>\n",
       "      <td>moslin</td>\n",
       "      <td>False</td>\n",
       "      <td>0.487528</td>\n",
       "      <td>0.472320</td>\n",
       "      <td>bc</td>\n",
       "      <td>0.6</td>\n",
       "      <td>0.4</td>\n",
       "      <td>0.479924</td>\n",
       "    </tr>\n",
       "    <tr>\n",
       "      <th>717</th>\n",
       "      <td>0.4</td>\n",
       "      <td>0.4</td>\n",
       "      <td>0.3</td>\n",
       "      <td>38128</td>\n",
       "      <td>0.990</td>\n",
       "      <td>0.0001</td>\n",
       "      <td>mean</td>\n",
       "      <td>8</td>\n",
       "      <td>2647875444</td>\n",
       "      <td>moslin</td>\n",
       "      <td>False</td>\n",
       "      <td>0.495400</td>\n",
       "      <td>0.487120</td>\n",
       "      <td>bc</td>\n",
       "      <td>0.4</td>\n",
       "      <td>0.6</td>\n",
       "      <td>0.491260</td>\n",
       "    </tr>\n",
       "    <tr>\n",
       "      <th>1022</th>\n",
       "      <td>0.4</td>\n",
       "      <td>0.4</td>\n",
       "      <td>0.2</td>\n",
       "      <td>38128</td>\n",
       "      <td>0.990</td>\n",
       "      <td>0.0001</td>\n",
       "      <td>mean</td>\n",
       "      <td>8</td>\n",
       "      <td>381580472</td>\n",
       "      <td>moslin</td>\n",
       "      <td>False</td>\n",
       "      <td>0.442806</td>\n",
       "      <td>0.448618</td>\n",
       "      <td>bc</td>\n",
       "      <td>0.4</td>\n",
       "      <td>0.6</td>\n",
       "      <td>0.445712</td>\n",
       "    </tr>\n",
       "    <tr>\n",
       "      <th>1407</th>\n",
       "      <td>0.4</td>\n",
       "      <td>0.4</td>\n",
       "      <td>0.2</td>\n",
       "      <td>38128</td>\n",
       "      <td>0.990</td>\n",
       "      <td>0.0001</td>\n",
       "      <td>mean</td>\n",
       "      <td>8</td>\n",
       "      <td>300092412</td>\n",
       "      <td>moslin</td>\n",
       "      <td>False</td>\n",
       "      <td>0.427702</td>\n",
       "      <td>0.427679</td>\n",
       "      <td>bc</td>\n",
       "      <td>0.6</td>\n",
       "      <td>0.4</td>\n",
       "      <td>0.427690</td>\n",
       "    </tr>\n",
       "    <tr>\n",
       "      <th>1447</th>\n",
       "      <td>0.4</td>\n",
       "      <td>0.4</td>\n",
       "      <td>0.3</td>\n",
       "      <td>38128</td>\n",
       "      <td>0.990</td>\n",
       "      <td>0.0001</td>\n",
       "      <td>mean</td>\n",
       "      <td>8</td>\n",
       "      <td>3195379924</td>\n",
       "      <td>moslin</td>\n",
       "      <td>False</td>\n",
       "      <td>0.480239</td>\n",
       "      <td>0.452658</td>\n",
       "      <td>bc</td>\n",
       "      <td>0.9</td>\n",
       "      <td>0.1</td>\n",
       "      <td>0.466448</td>\n",
       "    </tr>\n",
       "    <tr>\n",
       "      <th>2021</th>\n",
       "      <td>0.4</td>\n",
       "      <td>0.4</td>\n",
       "      <td>0.2</td>\n",
       "      <td>38128</td>\n",
       "      <td>0.999</td>\n",
       "      <td>0.0001</td>\n",
       "      <td>mean</td>\n",
       "      <td>8</td>\n",
       "      <td>3933538348</td>\n",
       "      <td>moslin</td>\n",
       "      <td>False</td>\n",
       "      <td>0.425930</td>\n",
       "      <td>0.413102</td>\n",
       "      <td>bc</td>\n",
       "      <td>0.9</td>\n",
       "      <td>0.1</td>\n",
       "      <td>0.419516</td>\n",
       "    </tr>\n",
       "    <tr>\n",
       "      <th>2322</th>\n",
       "      <td>0.4</td>\n",
       "      <td>0.4</td>\n",
       "      <td>0.3</td>\n",
       "      <td>38128</td>\n",
       "      <td>0.990</td>\n",
       "      <td>0.0001</td>\n",
       "      <td>mean</td>\n",
       "      <td>8</td>\n",
       "      <td>1378075952</td>\n",
       "      <td>moslin</td>\n",
       "      <td>False</td>\n",
       "      <td>0.499580</td>\n",
       "      <td>0.475439</td>\n",
       "      <td>bc</td>\n",
       "      <td>0.8</td>\n",
       "      <td>0.2</td>\n",
       "      <td>0.487509</td>\n",
       "    </tr>\n",
       "  </tbody>\n",
       "</table>\n",
       "</div>"
      ],
      "text/plain": [
       "      p_a   ss  ssr  data_seed  alpha  epsilon scale_cost  depth        seed  \\\n",
       "24    0.4  0.4  0.3      38128  0.990   0.0001       mean      8  1427845748   \n",
       "717   0.4  0.4  0.3      38128  0.990   0.0001       mean      8  2647875444   \n",
       "1022  0.4  0.4  0.2      38128  0.990   0.0001       mean      8   381580472   \n",
       "1407  0.4  0.4  0.2      38128  0.990   0.0001       mean      8   300092412   \n",
       "1447  0.4  0.4  0.3      38128  0.990   0.0001       mean      8  3195379924   \n",
       "2021  0.4  0.4  0.2      38128  0.999   0.0001       mean      8  3933538348   \n",
       "2322  0.4  0.4  0.3      38128  0.990   0.0001       mean      8  1378075952   \n",
       "\n",
       "        kind converged  early_cost  late_cost tree_type  subsample  \\\n",
       "24    moslin     False    0.487528   0.472320        bc        0.6   \n",
       "717   moslin     False    0.495400   0.487120        bc        0.4   \n",
       "1022  moslin     False    0.442806   0.448618        bc        0.4   \n",
       "1407  moslin     False    0.427702   0.427679        bc        0.6   \n",
       "1447  moslin     False    0.480239   0.452658        bc        0.9   \n",
       "2021  moslin     False    0.425930   0.413102        bc        0.9   \n",
       "2322  moslin     False    0.499580   0.475439        bc        0.8   \n",
       "\n",
       "      pct_removed  mean_cost  \n",
       "24            0.4   0.479924  \n",
       "717           0.6   0.491260  \n",
       "1022          0.6   0.445712  \n",
       "1407          0.4   0.427690  \n",
       "1447          0.1   0.466448  \n",
       "2021          0.1   0.419516  \n",
       "2322          0.2   0.487509  "
      ]
     },
     "execution_count": 15,
     "metadata": {},
     "output_type": "execute_result"
    }
   ],
   "source": [
    "df_min[(df_min[\"kind\"] == \"moslin\") & (df_min[\"data_seed\"] == 38128)]"
   ]
  },
  {
   "cell_type": "code",
   "execution_count": 16,
   "id": "10460318-4065-4546-a48f-d3226485e255",
   "metadata": {},
   "outputs": [
    {
     "data": {
      "text/plain": [
       "array([0.4, 0.1, 0.2, 0.6])"
      ]
     },
     "execution_count": 16,
     "metadata": {},
     "output_type": "execute_result"
    }
   ],
   "source": [
    "df_min[\"pct_removed\"].unique()"
   ]
  },
  {
   "cell_type": "markdown",
   "id": "21348af8-f971-4f3b-a737-0ace3e5ae609",
   "metadata": {},
   "source": [
    "# Plot Res"
   ]
  },
  {
   "cell_type": "code",
   "execution_count": 17,
   "id": "a584d6d6-3cca-4a93-9c0b-49bd74f4f072",
   "metadata": {},
   "outputs": [
    {
     "data": {
      "image/png": "[encoded data removed]",
      "text/plain": [
       "<Figure size 288x288 with 1 Axes>"
      ]
     },
     "metadata": {
      "needs_background": "light"
     },
     "output_type": "display_data"
    }
   ],
   "source": [
    "p_a = 0.4\n",
    "step_size = 0.4\n",
    "ssr = 0.2\n",
    "df_min_ss = df_min[(df_min[\"ss\"] == step_size) & (df_min[\"ssr\"] == ssr)]\n",
    "subsamples = np.sort(df_min_ss[\"pct_removed\"].unique())\n",
    "hue_order = [\"LineageOT\", \"CoSpar\", \"moslin\"]\n",
    "method_colors = {\n",
    "    \"moslin\": \"#E1BE6A\",\n",
    "    \"CoSpar\": \"#A640B0\",\n",
    "    \"LineageOT\": \"#40B0A6\",\n",
    "}\n",
    "\n",
    "fontsize = 14\n",
    "\n",
    "rows = 1\n",
    "cols = len(subsamples)\n",
    "\n",
    "fig, axs = plt.subplots(nrows=1, ncols=1, figsize=(4, 4))\n",
    "\n",
    "colors = {method: method_colors[method] for method in hue_order}\n",
    "ax = sns.barplot(\n",
    "    x=\"pct_removed\",\n",
    "    y=\"mean_cost\",\n",
    "    hue=\"kind\",\n",
    "    hue_order=hue_order,\n",
    "    data=df_min_ss,\n",
    "    ax=axs,\n",
    "    palette=colors,\n",
    ")\n",
    "\n",
    "\n",
    "ax.set_xticklabels([0.1, 0.2, 0.4, 0.6])\n",
    "ax.set_xlabel(\"fraction of cells removed\")\n",
    "ax.set_ylabel(\"mean cost\", fontsize=fontsize)\n",
    "ax.set_ylim(0, 1)\n",
    "ax.legend(\n",
    "    ncol=1,\n",
    "    handlelength=1,\n",
    "    fontsize=fontsize,\n",
    "    # labelspacing=0.1,\n",
    "    columnspacing=1,\n",
    "    loc=\"upper right\",\n",
    "    bbox_to_anchor=(1.2, 0.2, 0.5, 0.5),\n",
    ")\n",
    "\n",
    "# plt.savefig(\n",
    "#     FIG_DIR / \n",
    "#     \"ssr_ss0.4_pa0.4_ssr0.2_depth_8_subsample.pdf\", bbox_inches=\"tight\", dpi=300, format=\"pdf\"\n",
    "# )\n",
    "\n",
    "plt.show()"
   ]
  },
  {
   "cell_type": "code",
   "execution_count": 18,
   "id": "e3503a1f-3e65-4332-8af3-ff2ab13546f9",
   "metadata": {},
   "outputs": [
    {
     "ename": "NameError",
     "evalue": "name 'TTP' is not defined",
     "output_type": "error",
     "traceback": [
      "\u001B[0;31m---------------------------------------------------------------------------\u001B[0m",
      "\u001B[0;31mNameError\u001B[0m                                 Traceback (most recent call last)",
      "\u001B[0;32m<ipython-input-18-b59b36b7264d>\u001B[0m in \u001B[0;36m<module>\u001B[0;34m\u001B[0m\n\u001B[1;32m      2\u001B[0m \u001B[0mss\u001B[0m \u001B[0;34m=\u001B[0m \u001B[0;36m0.4\u001B[0m\u001B[0;34m\u001B[0m\u001B[0;34m\u001B[0m\u001B[0m\n\u001B[1;32m      3\u001B[0m \u001B[0mssr\u001B[0m \u001B[0;34m=\u001B[0m \u001B[0mssr\u001B[0m\u001B[0;34m\u001B[0m\u001B[0;34m\u001B[0m\u001B[0m\n\u001B[0;32m----> 4\u001B[0;31m \u001B[0msample_times\u001B[0m \u001B[0;34m=\u001B[0m \u001B[0;34m{\u001B[0m\u001B[0;34m\"early\"\u001B[0m\u001B[0;34m:\u001B[0m \u001B[0mdepth\u001B[0m \u001B[0;34m*\u001B[0m \u001B[0mTTP\u001B[0m\u001B[0;34m,\u001B[0m \u001B[0;34m\"late\"\u001B[0m\u001B[0;34m:\u001B[0m \u001B[0mMAX_DEPTH\u001B[0m \u001B[0;34m*\u001B[0m \u001B[0mTTP\u001B[0m\u001B[0;34m}\u001B[0m\u001B[0;34m\u001B[0m\u001B[0;34m\u001B[0m\u001B[0m\n\u001B[0m",
      "\u001B[0;31mNameError\u001B[0m: name 'TTP' is not defined"
     ]
    }
   ],
   "source": [
    "p_a = 0.4\n",
    "ss = 0.4\n",
    "ssr = ssr\n",
    "sample_times = {\"early\": depth * TTP, \"late\": MAX_DEPTH * TTP}\n"
   ]
  },
  {
   "cell_type": "markdown",
   "id": "16454d1d-b338-4d49-a0f3-875eefbdc911",
   "metadata": {},
   "source": [
    "# References\n",
    "\n",
    "\n",
    "[[PHX-22] Pan, X., Li, H., & Zhang, X. (2022). TedSim: temporal dynamics simulation of single-cell RNA sequencing data and cell division history. Nucleic Acids Research, 50(8), 4272-4288.](https://doi.org/10.1093/nar/gkac235)"
   ]
  }
 ],
 "metadata": {
  "kernelspec": {
   "display_name": "biovenv",
   "language": "python",
   "name": "biovenv"
  },
  "language_info": {
   "codemirror_mode": {
    "name": "ipython",
    "version": 3
   },
   "file_extension": ".py",
   "mimetype": "text/x-python",
   "name": "python",
   "nbconvert_exporter": "python",
   "pygments_lexer": "ipython3",
   "version": "3.9.2"
  }
 },
 "nbformat": 4,
 "nbformat_minor": 5
}
